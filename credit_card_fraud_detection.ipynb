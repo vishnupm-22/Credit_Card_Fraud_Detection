{
  "cells": [
    {
      "cell_type": "markdown",
      "metadata": {
        "id": "view-in-github",
        "colab_type": "text"
      },
      "source": [
        "<a href=\"https://colab.research.google.com/github/vishnupm-22/Credit_Card_Fraud_Detection/blob/main/credit_card_fraud_detection.ipynb\" target=\"_parent\"><img src=\"https://colab.research.google.com/assets/colab-badge.svg\" alt=\"Open In Colab\"/></a>"
      ]
    },
    {
      "cell_type": "markdown",
      "source": [
        "**OBJECTIVE:**\n",
        "* The primary objective of this problem is to develop an accurate and efficient credit card fraud detection system that can distinguish between legitimate and fraudulent transactions in real-time."
      ],
      "metadata": {
        "id": "3PNBxy6BJSeZ"
      },
      "id": "3PNBxy6BJSeZ"
    },
    {
      "cell_type": "code",
      "execution_count": null,
      "id": "7554126d",
      "metadata": {
        "id": "7554126d"
      },
      "outputs": [],
      "source": [
        "import numpy as np\n",
        "import pandas as pd\n",
        "import matplotlib.pyplot as plt\n",
        "import seaborn as sns\n",
        "from sklearn.model_selection import train_test_split\n",
        "from sklearn.linear_model import LogisticRegression\n",
        "from sklearn.metrics import accuracy_score"
      ]
    },
    {
      "cell_type": "markdown",
      "source": [
        "**DATA GATHERING**\n",
        "* Opening a local csv file using pandas 'read_csv' function"
      ],
      "metadata": {
        "id": "dTqq8xYqJxJI"
      },
      "id": "dTqq8xYqJxJI"
    },
    {
      "cell_type": "code",
      "execution_count": null,
      "id": "97450497",
      "metadata": {
        "id": "97450497"
      },
      "outputs": [],
      "source": [
        "credit_data = pd.read_csv('/content/drive/MyDrive/Data_sets/dataset_credit.csv')"
      ]
    },
    {
      "cell_type": "code",
      "source": [
        "from google.colab import drive\n",
        "drive.mount('/content/drive')"
      ],
      "metadata": {
        "id": "9umnpbdgJSY_",
        "colab": {
          "base_uri": "https://localhost:8080/"
        },
        "outputId": "1ebf5ee0-9a1e-4bdd-e8ef-f92f07ad727f"
      },
      "id": "9umnpbdgJSY_",
      "execution_count": null,
      "outputs": [
        {
          "output_type": "stream",
          "name": "stdout",
          "text": [
            "Drive already mounted at /content/drive; to attempt to forcibly remount, call drive.mount(\"/content/drive\", force_remount=True).\n"
          ]
        }
      ]
    },
    {
      "cell_type": "code",
      "execution_count": null,
      "id": "cad7eae9",
      "metadata": {
        "colab": {
          "base_uri": "https://localhost:8080/",
          "height": 255
        },
        "id": "cad7eae9",
        "outputId": "bb2db2f0-4021-4a92-ae17-c39a40c1b0e0"
      },
      "outputs": [
        {
          "output_type": "execute_result",
          "data": {
            "text/plain": [
              "            Time        V1        V2        V3        V4        V5        V6  \\\n",
              "119273   75391.0 -0.241435  0.970386  1.010177  1.587581  2.303380  4.429610   \n",
              "50738    44625.0 -0.914234  1.193384  1.418464  0.889005  0.237590  1.145949   \n",
              "91374    63440.0 -1.003595 -0.086424  1.246009 -0.897699  1.360749  0.774426   \n",
              "220252  142089.0 -0.246797  1.040666 -0.382110 -0.575483  0.648380 -1.069983   \n",
              "48419    43634.0 -0.129822 -3.270569  0.651349  0.298731 -2.299121  0.708472   \n",
              "\n",
              "              V7        V8        V9  ...       V21       V22       V23  \\\n",
              "119273 -0.211830  0.951680 -1.154356  ... -0.181341 -0.421324 -0.182697   \n",
              "50738  -0.157323  0.923059 -1.057227  ... -0.042256 -0.114660  0.081990   \n",
              "91374   0.218876  0.593522  0.299742  ...  0.068999  0.239506  0.230627   \n",
              "220252  1.106956 -0.074793 -0.338141  ...  0.137277  0.536878 -0.209399   \n",
              "48419  -0.449797  0.062451  0.288209  ...  0.567749  0.347360 -0.678158   \n",
              "\n",
              "             V24       V25       V26       V27       V28  Amount  Class  \n",
              "119273  0.974968  0.164543  0.144746  0.125019 -0.148294    9.83      0  \n",
              "50738  -0.667278 -0.435051  0.490274  0.010261  0.014000    1.79      0  \n",
              "91374  -0.968035 -0.822903 -0.042822  0.155699  0.165642   14.85      0  \n",
              "220252  0.099936  0.055583 -0.359422 -0.388266 -0.269525    1.00      0  \n",
              "48419   0.201860  0.131850 -0.169436 -0.041575  0.151933  735.60      0  \n",
              "\n",
              "[5 rows x 31 columns]"
            ],
            "text/html": [
              "\n",
              "  <div id=\"df-c345bad4-0c32-4b4e-a98a-4eda6681f5fd\" class=\"colab-df-container\">\n",
              "    <div>\n",
              "<style scoped>\n",
              "    .dataframe tbody tr th:only-of-type {\n",
              "        vertical-align: middle;\n",
              "    }\n",
              "\n",
              "    .dataframe tbody tr th {\n",
              "        vertical-align: top;\n",
              "    }\n",
              "\n",
              "    .dataframe thead th {\n",
              "        text-align: right;\n",
              "    }\n",
              "</style>\n",
              "<table border=\"1\" class=\"dataframe\">\n",
              "  <thead>\n",
              "    <tr style=\"text-align: right;\">\n",
              "      <th></th>\n",
              "      <th>Time</th>\n",
              "      <th>V1</th>\n",
              "      <th>V2</th>\n",
              "      <th>V3</th>\n",
              "      <th>V4</th>\n",
              "      <th>V5</th>\n",
              "      <th>V6</th>\n",
              "      <th>V7</th>\n",
              "      <th>V8</th>\n",
              "      <th>V9</th>\n",
              "      <th>...</th>\n",
              "      <th>V21</th>\n",
              "      <th>V22</th>\n",
              "      <th>V23</th>\n",
              "      <th>V24</th>\n",
              "      <th>V25</th>\n",
              "      <th>V26</th>\n",
              "      <th>V27</th>\n",
              "      <th>V28</th>\n",
              "      <th>Amount</th>\n",
              "      <th>Class</th>\n",
              "    </tr>\n",
              "  </thead>\n",
              "  <tbody>\n",
              "    <tr>\n",
              "      <th>119273</th>\n",
              "      <td>75391.0</td>\n",
              "      <td>-0.241435</td>\n",
              "      <td>0.970386</td>\n",
              "      <td>1.010177</td>\n",
              "      <td>1.587581</td>\n",
              "      <td>2.303380</td>\n",
              "      <td>4.429610</td>\n",
              "      <td>-0.211830</td>\n",
              "      <td>0.951680</td>\n",
              "      <td>-1.154356</td>\n",
              "      <td>...</td>\n",
              "      <td>-0.181341</td>\n",
              "      <td>-0.421324</td>\n",
              "      <td>-0.182697</td>\n",
              "      <td>0.974968</td>\n",
              "      <td>0.164543</td>\n",
              "      <td>0.144746</td>\n",
              "      <td>0.125019</td>\n",
              "      <td>-0.148294</td>\n",
              "      <td>9.83</td>\n",
              "      <td>0</td>\n",
              "    </tr>\n",
              "    <tr>\n",
              "      <th>50738</th>\n",
              "      <td>44625.0</td>\n",
              "      <td>-0.914234</td>\n",
              "      <td>1.193384</td>\n",
              "      <td>1.418464</td>\n",
              "      <td>0.889005</td>\n",
              "      <td>0.237590</td>\n",
              "      <td>1.145949</td>\n",
              "      <td>-0.157323</td>\n",
              "      <td>0.923059</td>\n",
              "      <td>-1.057227</td>\n",
              "      <td>...</td>\n",
              "      <td>-0.042256</td>\n",
              "      <td>-0.114660</td>\n",
              "      <td>0.081990</td>\n",
              "      <td>-0.667278</td>\n",
              "      <td>-0.435051</td>\n",
              "      <td>0.490274</td>\n",
              "      <td>0.010261</td>\n",
              "      <td>0.014000</td>\n",
              "      <td>1.79</td>\n",
              "      <td>0</td>\n",
              "    </tr>\n",
              "    <tr>\n",
              "      <th>91374</th>\n",
              "      <td>63440.0</td>\n",
              "      <td>-1.003595</td>\n",
              "      <td>-0.086424</td>\n",
              "      <td>1.246009</td>\n",
              "      <td>-0.897699</td>\n",
              "      <td>1.360749</td>\n",
              "      <td>0.774426</td>\n",
              "      <td>0.218876</td>\n",
              "      <td>0.593522</td>\n",
              "      <td>0.299742</td>\n",
              "      <td>...</td>\n",
              "      <td>0.068999</td>\n",
              "      <td>0.239506</td>\n",
              "      <td>0.230627</td>\n",
              "      <td>-0.968035</td>\n",
              "      <td>-0.822903</td>\n",
              "      <td>-0.042822</td>\n",
              "      <td>0.155699</td>\n",
              "      <td>0.165642</td>\n",
              "      <td>14.85</td>\n",
              "      <td>0</td>\n",
              "    </tr>\n",
              "    <tr>\n",
              "      <th>220252</th>\n",
              "      <td>142089.0</td>\n",
              "      <td>-0.246797</td>\n",
              "      <td>1.040666</td>\n",
              "      <td>-0.382110</td>\n",
              "      <td>-0.575483</td>\n",
              "      <td>0.648380</td>\n",
              "      <td>-1.069983</td>\n",
              "      <td>1.106956</td>\n",
              "      <td>-0.074793</td>\n",
              "      <td>-0.338141</td>\n",
              "      <td>...</td>\n",
              "      <td>0.137277</td>\n",
              "      <td>0.536878</td>\n",
              "      <td>-0.209399</td>\n",
              "      <td>0.099936</td>\n",
              "      <td>0.055583</td>\n",
              "      <td>-0.359422</td>\n",
              "      <td>-0.388266</td>\n",
              "      <td>-0.269525</td>\n",
              "      <td>1.00</td>\n",
              "      <td>0</td>\n",
              "    </tr>\n",
              "    <tr>\n",
              "      <th>48419</th>\n",
              "      <td>43634.0</td>\n",
              "      <td>-0.129822</td>\n",
              "      <td>-3.270569</td>\n",
              "      <td>0.651349</td>\n",
              "      <td>0.298731</td>\n",
              "      <td>-2.299121</td>\n",
              "      <td>0.708472</td>\n",
              "      <td>-0.449797</td>\n",
              "      <td>0.062451</td>\n",
              "      <td>0.288209</td>\n",
              "      <td>...</td>\n",
              "      <td>0.567749</td>\n",
              "      <td>0.347360</td>\n",
              "      <td>-0.678158</td>\n",
              "      <td>0.201860</td>\n",
              "      <td>0.131850</td>\n",
              "      <td>-0.169436</td>\n",
              "      <td>-0.041575</td>\n",
              "      <td>0.151933</td>\n",
              "      <td>735.60</td>\n",
              "      <td>0</td>\n",
              "    </tr>\n",
              "  </tbody>\n",
              "</table>\n",
              "<p>5 rows × 31 columns</p>\n",
              "</div>\n",
              "    <div class=\"colab-df-buttons\">\n",
              "\n",
              "  <div class=\"colab-df-container\">\n",
              "    <button class=\"colab-df-convert\" onclick=\"convertToInteractive('df-c345bad4-0c32-4b4e-a98a-4eda6681f5fd')\"\n",
              "            title=\"Convert this dataframe to an interactive table.\"\n",
              "            style=\"display:none;\">\n",
              "\n",
              "  <svg xmlns=\"http://www.w3.org/2000/svg\" height=\"24px\" viewBox=\"0 -960 960 960\">\n",
              "    <path d=\"M120-120v-720h720v720H120Zm60-500h600v-160H180v160Zm220 220h160v-160H400v160Zm0 220h160v-160H400v160ZM180-400h160v-160H180v160Zm440 0h160v-160H620v160ZM180-180h160v-160H180v160Zm440 0h160v-160H620v160Z\"/>\n",
              "  </svg>\n",
              "    </button>\n",
              "\n",
              "  <style>\n",
              "    .colab-df-container {\n",
              "      display:flex;\n",
              "      gap: 12px;\n",
              "    }\n",
              "\n",
              "    .colab-df-convert {\n",
              "      background-color: #E8F0FE;\n",
              "      border: none;\n",
              "      border-radius: 50%;\n",
              "      cursor: pointer;\n",
              "      display: none;\n",
              "      fill: #1967D2;\n",
              "      height: 32px;\n",
              "      padding: 0 0 0 0;\n",
              "      width: 32px;\n",
              "    }\n",
              "\n",
              "    .colab-df-convert:hover {\n",
              "      background-color: #E2EBFA;\n",
              "      box-shadow: 0px 1px 2px rgba(60, 64, 67, 0.3), 0px 1px 3px 1px rgba(60, 64, 67, 0.15);\n",
              "      fill: #174EA6;\n",
              "    }\n",
              "\n",
              "    .colab-df-buttons div {\n",
              "      margin-bottom: 4px;\n",
              "    }\n",
              "\n",
              "    [theme=dark] .colab-df-convert {\n",
              "      background-color: #3B4455;\n",
              "      fill: #D2E3FC;\n",
              "    }\n",
              "\n",
              "    [theme=dark] .colab-df-convert:hover {\n",
              "      background-color: #434B5C;\n",
              "      box-shadow: 0px 1px 3px 1px rgba(0, 0, 0, 0.15);\n",
              "      filter: drop-shadow(0px 1px 2px rgba(0, 0, 0, 0.3));\n",
              "      fill: #FFFFFF;\n",
              "    }\n",
              "  </style>\n",
              "\n",
              "    <script>\n",
              "      const buttonEl =\n",
              "        document.querySelector('#df-c345bad4-0c32-4b4e-a98a-4eda6681f5fd button.colab-df-convert');\n",
              "      buttonEl.style.display =\n",
              "        google.colab.kernel.accessAllowed ? 'block' : 'none';\n",
              "\n",
              "      async function convertToInteractive(key) {\n",
              "        const element = document.querySelector('#df-c345bad4-0c32-4b4e-a98a-4eda6681f5fd');\n",
              "        const dataTable =\n",
              "          await google.colab.kernel.invokeFunction('convertToInteractive',\n",
              "                                                    [key], {});\n",
              "        if (!dataTable) return;\n",
              "\n",
              "        const docLinkHtml = 'Like what you see? Visit the ' +\n",
              "          '<a target=\"_blank\" href=https://colab.research.google.com/notebooks/data_table.ipynb>data table notebook</a>'\n",
              "          + ' to learn more about interactive tables.';\n",
              "        element.innerHTML = '';\n",
              "        dataTable['output_type'] = 'display_data';\n",
              "        await google.colab.output.renderOutput(dataTable, element);\n",
              "        const docLink = document.createElement('div');\n",
              "        docLink.innerHTML = docLinkHtml;\n",
              "        element.appendChild(docLink);\n",
              "      }\n",
              "    </script>\n",
              "  </div>\n",
              "\n",
              "\n",
              "<div id=\"df-bb16c75d-a7f7-44fb-bffc-552529e55c89\">\n",
              "  <button class=\"colab-df-quickchart\" onclick=\"quickchart('df-bb16c75d-a7f7-44fb-bffc-552529e55c89')\"\n",
              "            title=\"Suggest charts\"\n",
              "            style=\"display:none;\">\n",
              "\n",
              "<svg xmlns=\"http://www.w3.org/2000/svg\" height=\"24px\"viewBox=\"0 0 24 24\"\n",
              "     width=\"24px\">\n",
              "    <g>\n",
              "        <path d=\"M19 3H5c-1.1 0-2 .9-2 2v14c0 1.1.9 2 2 2h14c1.1 0 2-.9 2-2V5c0-1.1-.9-2-2-2zM9 17H7v-7h2v7zm4 0h-2V7h2v10zm4 0h-2v-4h2v4z\"/>\n",
              "    </g>\n",
              "</svg>\n",
              "  </button>\n",
              "\n",
              "<style>\n",
              "  .colab-df-quickchart {\n",
              "      --bg-color: #E8F0FE;\n",
              "      --fill-color: #1967D2;\n",
              "      --hover-bg-color: #E2EBFA;\n",
              "      --hover-fill-color: #174EA6;\n",
              "      --disabled-fill-color: #AAA;\n",
              "      --disabled-bg-color: #DDD;\n",
              "  }\n",
              "\n",
              "  [theme=dark] .colab-df-quickchart {\n",
              "      --bg-color: #3B4455;\n",
              "      --fill-color: #D2E3FC;\n",
              "      --hover-bg-color: #434B5C;\n",
              "      --hover-fill-color: #FFFFFF;\n",
              "      --disabled-bg-color: #3B4455;\n",
              "      --disabled-fill-color: #666;\n",
              "  }\n",
              "\n",
              "  .colab-df-quickchart {\n",
              "    background-color: var(--bg-color);\n",
              "    border: none;\n",
              "    border-radius: 50%;\n",
              "    cursor: pointer;\n",
              "    display: none;\n",
              "    fill: var(--fill-color);\n",
              "    height: 32px;\n",
              "    padding: 0;\n",
              "    width: 32px;\n",
              "  }\n",
              "\n",
              "  .colab-df-quickchart:hover {\n",
              "    background-color: var(--hover-bg-color);\n",
              "    box-shadow: 0 1px 2px rgba(60, 64, 67, 0.3), 0 1px 3px 1px rgba(60, 64, 67, 0.15);\n",
              "    fill: var(--button-hover-fill-color);\n",
              "  }\n",
              "\n",
              "  .colab-df-quickchart-complete:disabled,\n",
              "  .colab-df-quickchart-complete:disabled:hover {\n",
              "    background-color: var(--disabled-bg-color);\n",
              "    fill: var(--disabled-fill-color);\n",
              "    box-shadow: none;\n",
              "  }\n",
              "\n",
              "  .colab-df-spinner {\n",
              "    border: 2px solid var(--fill-color);\n",
              "    border-color: transparent;\n",
              "    border-bottom-color: var(--fill-color);\n",
              "    animation:\n",
              "      spin 1s steps(1) infinite;\n",
              "  }\n",
              "\n",
              "  @keyframes spin {\n",
              "    0% {\n",
              "      border-color: transparent;\n",
              "      border-bottom-color: var(--fill-color);\n",
              "      border-left-color: var(--fill-color);\n",
              "    }\n",
              "    20% {\n",
              "      border-color: transparent;\n",
              "      border-left-color: var(--fill-color);\n",
              "      border-top-color: var(--fill-color);\n",
              "    }\n",
              "    30% {\n",
              "      border-color: transparent;\n",
              "      border-left-color: var(--fill-color);\n",
              "      border-top-color: var(--fill-color);\n",
              "      border-right-color: var(--fill-color);\n",
              "    }\n",
              "    40% {\n",
              "      border-color: transparent;\n",
              "      border-right-color: var(--fill-color);\n",
              "      border-top-color: var(--fill-color);\n",
              "    }\n",
              "    60% {\n",
              "      border-color: transparent;\n",
              "      border-right-color: var(--fill-color);\n",
              "    }\n",
              "    80% {\n",
              "      border-color: transparent;\n",
              "      border-right-color: var(--fill-color);\n",
              "      border-bottom-color: var(--fill-color);\n",
              "    }\n",
              "    90% {\n",
              "      border-color: transparent;\n",
              "      border-bottom-color: var(--fill-color);\n",
              "    }\n",
              "  }\n",
              "</style>\n",
              "\n",
              "  <script>\n",
              "    async function quickchart(key) {\n",
              "      const quickchartButtonEl =\n",
              "        document.querySelector('#' + key + ' button');\n",
              "      quickchartButtonEl.disabled = true;  // To prevent multiple clicks.\n",
              "      quickchartButtonEl.classList.add('colab-df-spinner');\n",
              "      try {\n",
              "        const charts = await google.colab.kernel.invokeFunction(\n",
              "            'suggestCharts', [key], {});\n",
              "      } catch (error) {\n",
              "        console.error('Error during call to suggestCharts:', error);\n",
              "      }\n",
              "      quickchartButtonEl.classList.remove('colab-df-spinner');\n",
              "      quickchartButtonEl.classList.add('colab-df-quickchart-complete');\n",
              "    }\n",
              "    (() => {\n",
              "      let quickchartButtonEl =\n",
              "        document.querySelector('#df-bb16c75d-a7f7-44fb-bffc-552529e55c89 button');\n",
              "      quickchartButtonEl.style.display =\n",
              "        google.colab.kernel.accessAllowed ? 'block' : 'none';\n",
              "    })();\n",
              "  </script>\n",
              "</div>\n",
              "    </div>\n",
              "  </div>\n"
            ]
          },
          "metadata": {},
          "execution_count": 6
        }
      ],
      "source": [
        "credit_data.sample(5)"
      ]
    },
    {
      "cell_type": "code",
      "execution_count": null,
      "id": "9081f12a",
      "metadata": {
        "colab": {
          "base_uri": "https://localhost:8080/"
        },
        "id": "9081f12a",
        "outputId": "1d9f581e-6103-4770-974c-85a5fe97ca30"
      },
      "outputs": [
        {
          "output_type": "execute_result",
          "data": {
            "text/plain": [
              "(284807, 31)"
            ]
          },
          "metadata": {},
          "execution_count": 7
        }
      ],
      "source": [
        "credit_data.shape"
      ]
    },
    {
      "cell_type": "markdown",
      "source": [
        "## **EDA**"
      ],
      "metadata": {
        "id": "FsqxUm-ZJ7yD"
      },
      "id": "FsqxUm-ZJ7yD"
    },
    {
      "cell_type": "markdown",
      "id": "aa25bb7d",
      "metadata": {
        "id": "aa25bb7d"
      },
      "source": [
        "**Class Distribution:**"
      ]
    },
    {
      "cell_type": "code",
      "execution_count": null,
      "id": "b5256078",
      "metadata": {
        "colab": {
          "base_uri": "https://localhost:8080/"
        },
        "id": "b5256078",
        "outputId": "3d6a3aba-8ba9-4842-9129-82f01b2c5161"
      },
      "outputs": [
        {
          "output_type": "execute_result",
          "data": {
            "text/plain": [
              "0    284315\n",
              "1       492\n",
              "Name: Class, dtype: int64"
            ]
          },
          "metadata": {},
          "execution_count": 8
        }
      ],
      "source": [
        "credit_data['Class'].value_counts()"
      ]
    },
    {
      "cell_type": "markdown",
      "source": [
        "*  **bar and pie plot** : shows that data is highly imbalanced (only 0.17 % data contributes to fraud )"
      ],
      "metadata": {
        "id": "ckkKiyyrK336"
      },
      "id": "ckkKiyyrK336"
    },
    {
      "cell_type": "code",
      "execution_count": null,
      "id": "4fc35021",
      "metadata": {
        "colab": {
          "base_uri": "https://localhost:8080/",
          "height": 507
        },
        "id": "4fc35021",
        "outputId": "c2d594f1-6744-4aa0-b2ca-50125e38c1a4"
      },
      "outputs": [
        {
          "output_type": "display_data",
          "data": {
            "text/plain": [
              "<Figure size 800x500 with 2 Axes>"
            ],
            "image/png": "[encoded data removed]"
          },
          "metadata": {}
        }
      ],
      "source": [
        "# Create a figure with two subplots\n",
        "fig, axes = plt.subplots(nrows=1, ncols=2, figsize=(8, 5))\n",
        "\n",
        "# Bar chart\n",
        "credit_data['Class'].value_counts().plot(kind='bar', ax=axes[0])\n",
        "axes[0].set_title('Class Distribution (Bar Chart)')\n",
        "axes[0].set_xlabel('Class')\n",
        "axes[0].set_ylabel('Count')\n",
        "\n",
        "# Pie chart\n",
        "credit_data['Class'].value_counts().plot(kind='pie', autopct='%0.2f', ax=axes[1])\n",
        "axes[1].set_title('Class Distribution (Pie Chart)')\n",
        "\n",
        "# Adjust layout\n",
        "plt.tight_layout()\n",
        "\n",
        "# Show the plot\n",
        "plt.show()\n"
      ]
    },
    {
      "cell_type": "markdown",
      "source": [
        "With only two days worth of transaction data we can only gain some valuable insights by analyzing the patterns within this short timeframe."
      ],
      "metadata": {
        "id": "GpmVbJR_X6Jt"
      },
      "id": "GpmVbJR_X6Jt"
    },
    {
      "cell_type": "markdown",
      "id": "fb441093",
      "metadata": {
        "id": "fb441093"
      },
      "source": [
        "**Time-based Analysis:**\n",
        "* **Distplot** :\n",
        "    * Fraudulent transactions have a distribution more even than valid\n",
        "      transactions\n",
        "    * Fraud Transactions : left skewed\n",
        "    * legit Transactions : Right skewed\n",
        "    * **Peak Hours**:\n",
        "        * Identifying the specific hours during these two days when the majority of transactions, both legitimate and fraudulent, occurred.\n",
        "        * from distribution plot we can infer that highest probability of both\n",
        "          legit and fraud transactions occurs at some specific hour(between 10th and 12th hr in a day)  "
      ]
    },
    {
      "cell_type": "code",
      "execution_count": null,
      "id": "5f35fce0",
      "metadata": {
        "colab": {
          "base_uri": "https://localhost:8080/",
          "height": 870
        },
        "id": "5f35fce0",
        "outputId": "a5f2e2fe-4c18-4b7c-9485-f0e4721b46d7"
      },
      "outputs": [
        {
          "output_type": "stream",
          "name": "stderr",
          "text": [
            "<ipython-input-10-816fc002f996>:5: UserWarning: \n",
            "\n",
            "`distplot` is a deprecated function and will be removed in seaborn v0.14.0.\n",
            "\n",
            "Please adapt your code to use either `displot` (a figure-level function with\n",
            "similar flexibility) or `kdeplot` (an axes-level function for kernel density plots).\n",
            "\n",
            "For a guide to updating your code to use the new functions, please see\n",
            "https://gist.github.com/mwaskom/de44147ed2974457ad6372750bbe5751\n",
            "\n",
            "  sns.distplot(credit_data[credit_data['Class'] == 0]['Hour'], hist=False, label='Legit')\n",
            "<ipython-input-10-816fc002f996>:6: UserWarning: \n",
            "\n",
            "`distplot` is a deprecated function and will be removed in seaborn v0.14.0.\n",
            "\n",
            "Please adapt your code to use either `displot` (a figure-level function with\n",
            "similar flexibility) or `kdeplot` (an axes-level function for kernel density plots).\n",
            "\n",
            "For a guide to updating your code to use the new functions, please see\n",
            "https://gist.github.com/mwaskom/de44147ed2974457ad6372750bbe5751\n",
            "\n",
            "  sns.distplot(credit_data[credit_data['Class'] == 1]['Hour'], hist=False, label='Fraud')\n"
          ]
        },
        {
          "output_type": "display_data",
          "data": {
            "text/plain": [
              "<Figure size 640x480 with 1 Axes>"
            ],
            "image/png": "[encoded data removed]"
          },
          "metadata": {}
        }
      ],
      "source": [
        "# Assumimg time in data is in sec:\n",
        "\n",
        "credit_data['Hour'] = credit_data['Time'].apply(lambda x: np.floor(x / 3600))\n",
        "\n",
        "sns.distplot(credit_data[credit_data['Class'] == 0]['Hour'], hist=False, label='Legit')\n",
        "sns.distplot(credit_data[credit_data['Class'] == 1]['Hour'], hist=False, label='Fraud')\n",
        "\n",
        "# Set plot labels and title\n",
        "plt.xlabel('Hour')\n",
        "plt.ylabel('Density')\n",
        "plt.title('Distribution of Time in hr for Legitimate vs. Fraudulent Transactions')\n",
        "\n",
        "# Show legend\n",
        "plt.legend()\n",
        "\n",
        "# Show the plot\n",
        "plt.show()\n"
      ]
    },
    {
      "cell_type": "code",
      "execution_count": null,
      "id": "ce051f34",
      "metadata": {
        "colab": {
          "base_uri": "https://localhost:8080/"
        },
        "id": "ce051f34",
        "outputId": "1dd66500-c66b-4305-a810-e15b384c7d12"
      },
      "outputs": [
        {
          "output_type": "execute_result",
          "data": {
            "text/plain": [
              "-0.034920967425472654"
            ]
          },
          "metadata": {},
          "execution_count": 11
        }
      ],
      "source": [
        "credit_data[credit_data['Class']==0]['Hour'].skew()"
      ]
    },
    {
      "cell_type": "code",
      "execution_count": null,
      "id": "04516115",
      "metadata": {
        "colab": {
          "base_uri": "https://localhost:8080/"
        },
        "id": "04516115",
        "outputId": "631cc3aa-2840-4d55-e433-4b67a80081ca"
      },
      "outputs": [
        {
          "output_type": "execute_result",
          "data": {
            "text/plain": [
              "0.25370306523474034"
            ]
          },
          "metadata": {},
          "execution_count": 12
        }
      ],
      "source": [
        "credit_data[credit_data['Class']==1]['Hour'].skew()\n",
        "# +ve positively skewed torawds right"
      ]
    },
    {
      "cell_type": "code",
      "execution_count": null,
      "id": "386119a2",
      "metadata": {
        "colab": {
          "base_uri": "https://localhost:8080/"
        },
        "id": "386119a2",
        "outputId": "8fb57bef-79a5-4ce5-e38d-27da9c817abb"
      },
      "outputs": [
        {
          "output_type": "execute_result",
          "data": {
            "text/plain": [
              "17.00314710107444"
            ]
          },
          "metadata": {},
          "execution_count": 13
        }
      ],
      "source": [
        "credit_data[credit_data['Class']==0]['Amount'].skew()"
      ]
    },
    {
      "cell_type": "code",
      "execution_count": null,
      "id": "2bd188f3",
      "metadata": {
        "colab": {
          "base_uri": "https://localhost:8080/"
        },
        "id": "2bd188f3",
        "outputId": "f640be0e-b86d-46bf-f591-c43b159c1823"
      },
      "outputs": [
        {
          "output_type": "execute_result",
          "data": {
            "text/plain": [
              "3.7544765273817413"
            ]
          },
          "metadata": {},
          "execution_count": 14
        }
      ],
      "source": [
        "credit_data[credit_data['Class']==1]['Amount'].skew()"
      ]
    },
    {
      "cell_type": "code",
      "execution_count": null,
      "id": "72b58ab4",
      "metadata": {
        "id": "72b58ab4"
      },
      "outputs": [],
      "source": [
        "legit = credit_data[credit_data['Class']==0]\n",
        "fraud = credit_data[credit_data['Class']==1]"
      ]
    },
    {
      "cell_type": "markdown",
      "id": "b6c671ee",
      "metadata": {
        "id": "b6c671ee"
      },
      "source": [
        "**daily basis transactions**\n",
        "*  Group data by day and count transactions for legitimate and fraudulent cases\n",
        "*  **Day-wise Patterns**:\n",
        "      * Compare transaction volumes and types on each day. It might reveal if fraud rates differ significantly from one day to another.\n",
        "      * As I have only transactions of 2 days ,there is no much significant difference in No of fraud transactions in 2 days.\n",
        "* **Transaction Frequency:**\n",
        "     * Identify users with an unusually high frequency of transactions within these two days. Rapid and frequent transactions by a single user might indicate suspicious activity."
      ]
    },
    {
      "cell_type": "code",
      "execution_count": null,
      "id": "b6b347d9",
      "metadata": {
        "colab": {
          "base_uri": "https://localhost:8080/",
          "height": 307
        },
        "id": "b6b347d9",
        "outputId": "a6a5e806-8de9-4971-cf70-aa4cd9997b8d"
      },
      "outputs": [
        {
          "output_type": "display_data",
          "data": {
            "text/plain": [
              "<Figure size 400x300 with 1 Axes>"
            ],
            "image/png": "[encoded data removed]"
          },
          "metadata": {}
        }
      ],
      "source": [
        "# Convert the 'Time' column to days\n",
        "credit_data['Day'] = (credit_data['Time'] // 86400)  # Assuming 1 day = 24 hours * 60 minutes * 60 seconds\n",
        "\n",
        "legit_daily_counts = credit_data[credit_data['Class'] == 0].groupby('Day').size()\n",
        "fraud_daily_counts = credit_data[credit_data['Class'] == 1].groupby('Day').size()\n",
        "\n",
        "# Plotting\n",
        "plt.figure(figsize=(4, 3))\n",
        "\n",
        "# Plot legitimate transactions\n",
        "plt.plot(legit_daily_counts.index, legit_daily_counts.values, marker='o', color='green', linestyle='-', label='Legitimate')\n",
        "\n",
        "# Plot fraudulent transactions\n",
        "plt.plot(fraud_daily_counts.index, fraud_daily_counts.values, marker='o', color='red', linestyle='-', label='Fraudulent')\n",
        "\n",
        "plt.xlabel('Day')\n",
        "plt.ylabel('Number of Transactions')\n",
        "plt.title('Daily Transaction Frequency')\n",
        "plt.xticks(rotation=45)\n",
        "plt.legend()  # Show legend indicating legit and fraud transactions\n",
        "plt.tight_layout()\n",
        "plt.show()\n"
      ]
    },
    {
      "cell_type": "code",
      "execution_count": null,
      "id": "31067717",
      "metadata": {
        "colab": {
          "base_uri": "https://localhost:8080/"
        },
        "id": "31067717",
        "outputId": "47b4338c-d1b3-43f5-c369-299b663f0d91"
      },
      "outputs": [
        {
          "output_type": "execute_result",
          "data": {
            "text/plain": [
              "Day\n",
              "0.0    281\n",
              "1.0    211\n",
              "dtype: int64"
            ]
          },
          "metadata": {},
          "execution_count": 17
        }
      ],
      "source": [
        "fraud_daily_counts = credit_data[credit_data['Class'] == 1].groupby('Day').size()\n",
        "fraud_daily_counts"
      ]
    },
    {
      "cell_type": "code",
      "source": [
        "fraud_daily_counts = credit_data[credit_data['Class'] == 0].groupby('Day').size()\n",
        "fraud_daily_counts"
      ],
      "metadata": {
        "colab": {
          "base_uri": "https://localhost:8080/"
        },
        "id": "V0VbsMoEPfUZ",
        "outputId": "24ee2bba-28dd-4fa8-dee9-33557a91bb4f"
      },
      "id": "V0VbsMoEPfUZ",
      "execution_count": null,
      "outputs": [
        {
          "output_type": "execute_result",
          "data": {
            "text/plain": [
              "Day\n",
              "0.0    144505\n",
              "1.0    139810\n",
              "dtype: int64"
            ]
          },
          "metadata": {},
          "execution_count": 18
        }
      ]
    },
    {
      "cell_type": "markdown",
      "source": [
        "**Peak Hours**:\n",
        "* Identifying the specific hours during these two days when the majority of transactions, both legitimate and fraudulent, occurred.\n",
        "* From hourly transaction frequency : both the transaction count are high at 11th hr in a day."
      ],
      "metadata": {
        "id": "Amxy51rQbjFa"
      },
      "id": "Amxy51rQbjFa"
    },
    {
      "cell_type": "code",
      "execution_count": null,
      "id": "c3f5f3af",
      "metadata": {
        "colab": {
          "base_uri": "https://localhost:8080/",
          "height": 307
        },
        "id": "c3f5f3af",
        "outputId": "bb6430d3-3cf3-4d38-f4c7-bb1056c3e4bd"
      },
      "outputs": [
        {
          "output_type": "display_data",
          "data": {
            "text/plain": [
              "<Figure size 500x300 with 1 Axes>"
            ],
            "image/png": "[encoded data removed]"
          },
          "metadata": {}
        }
      ],
      "source": [
        "# Convert the 'Time' column to hours\n",
        "credit_data['Hour'] = (credit_data['Time'] // 3600) % 24  # Assuming 1 day = 24 hours * 60 minutes * 60 seconds\n",
        "\n",
        "# Group data by hour and count transactions for legitimate and fraudulent cases\n",
        "legit_hourly_counts = credit_data[credit_data['Class'] == 0].groupby('Hour').size()\n",
        "fraud_hourly_counts = credit_data[credit_data['Class'] == 1].groupby('Hour').size()\n",
        "\n",
        "# Plotting\n",
        "plt.figure(figsize=(5,3))\n",
        "\n",
        "# Plot legitimate transactions\n",
        "plt.plot(legit_hourly_counts.index, legit_hourly_counts.values, marker='o', color='green', linestyle='-', label='Legitimate')\n",
        "\n",
        "# Plot fraudulent transactions\n",
        "plt.plot(fraud_hourly_counts.index, fraud_hourly_counts.values, marker='o', color='red', linestyle='-', label='Fraudulent')\n",
        "\n",
        "plt.xlabel('Hour of the Day')\n",
        "plt.ylabel('Number of Transactions')\n",
        "plt.title('Hourly Transaction Frequency')\n",
        "plt.xticks(range(24))  # Assuming transactions occur in all 24 hours\n",
        "plt.legend()  # Show legend indicating legit and fraud transactions\n",
        "plt.tight_layout()\n",
        "plt.show()\n"
      ]
    },
    {
      "cell_type": "code",
      "source": [
        "legit_hourly_counts"
      ],
      "metadata": {
        "id": "7siIhCZ07-j3",
        "colab": {
          "base_uri": "https://localhost:8080/"
        },
        "outputId": "4a720c94-3f7d-4f55-cad0-9b5e822f449a"
      },
      "id": "7siIhCZ07-j3",
      "execution_count": null,
      "outputs": [
        {
          "output_type": "execute_result",
          "data": {
            "text/plain": [
              "Hour\n",
              "0.0      7689\n",
              "1.0      4210\n",
              "2.0      3271\n",
              "3.0      3475\n",
              "4.0      2186\n",
              "5.0      2979\n",
              "6.0      4092\n",
              "7.0      7220\n",
              "8.0     10267\n",
              "9.0     15822\n",
              "10.0    16590\n",
              "11.0    16803\n",
              "12.0    15403\n",
              "13.0    15348\n",
              "14.0    16547\n",
              "15.0    16435\n",
              "16.0    16431\n",
              "17.0    16137\n",
              "18.0    17006\n",
              "19.0    15630\n",
              "20.0    16738\n",
              "21.0    17687\n",
              "22.0    15432\n",
              "23.0    10917\n",
              "dtype: int64"
            ]
          },
          "metadata": {},
          "execution_count": 20
        }
      ]
    },
    {
      "cell_type": "code",
      "source": [
        "fraud_hourly_counts"
      ],
      "metadata": {
        "colab": {
          "base_uri": "https://localhost:8080/"
        },
        "id": "zLF3BLcGb85B",
        "outputId": "74ca9054-3872-4817-8493-23ef16f3b33a"
      },
      "id": "zLF3BLcGb85B",
      "execution_count": null,
      "outputs": [
        {
          "output_type": "execute_result",
          "data": {
            "text/plain": [
              "Hour\n",
              "0.0      6\n",
              "1.0     10\n",
              "2.0     57\n",
              "3.0     17\n",
              "4.0     23\n",
              "5.0     11\n",
              "6.0      9\n",
              "7.0     23\n",
              "8.0      9\n",
              "9.0     16\n",
              "10.0     8\n",
              "11.0    53\n",
              "12.0    17\n",
              "13.0    17\n",
              "14.0    23\n",
              "15.0    26\n",
              "16.0    22\n",
              "17.0    29\n",
              "18.0    33\n",
              "19.0    19\n",
              "20.0    18\n",
              "21.0    16\n",
              "22.0     9\n",
              "23.0    21\n",
              "dtype: int64"
            ]
          },
          "metadata": {},
          "execution_count": 21
        }
      ]
    },
    {
      "cell_type": "markdown",
      "id": "e4a95b20",
      "metadata": {
        "id": "e4a95b20"
      },
      "source": [
        "**Transaction Amount Analysis:**\n",
        "*   **Average Transaction Value**:\n",
        "      * Calculate the average transaction amount for both fraudulent and legitimate transactions. Look for significant differences between the average amounts of these two categories.\n",
        "      * The Avg Transaction value in fraud are significantly high than in legit transactions.\n",
        "      * Avg Transaction value in fraud increased from day 1 to day 2,\n",
        "       whereas Avg Transaction value in legit decreased from day 1 to day 2"
      ]
    },
    {
      "cell_type": "code",
      "source": [
        "credit_data['Day'] = (credit_data['Time'] // 86400)  # Assuming 1 day = 24 hours * 60 minutes * 60 seconds\n",
        "\n",
        "Transaction_Amount_legit = credit_data[credit_data['Class'] == 0].groupby('Day')['Amount'].aggregate('mean').reset_index()\n",
        "Transaction_Amount_fraud =  credit_data[credit_data['Class'] == 1].groupby('Day')['Amount'].aggregate('mean').reset_index()\n",
        "\n",
        "import matplotlib.pyplot as plt\n",
        "\n",
        "\n",
        "plt.figure(figsize=(12, 6))  # Set the figure size\n",
        "\n",
        "# Plot daily transaction amounts for legitimate transactions\n",
        "plt.plot(Transaction_Amount_legit['Day'], Transaction_Amount_legit['Amount'], label='Legitimate Transactions', marker='o')\n",
        "\n",
        "# Plot daily transaction amounts for fraudulent transactions\n",
        "plt.plot(Transaction_Amount_fraud['Day'], Transaction_Amount_fraud['Amount'], label='Fraudulent Transactions', marker='x')\n",
        "\n",
        "plt.xlabel('Day')\n",
        "plt.ylabel('Total Transaction Amount')\n",
        "plt.title('Daily Transaction Amounts')\n",
        "plt.legend()\n",
        "plt.grid(True)\n",
        "plt.show()\n"
      ],
      "metadata": {
        "colab": {
          "base_uri": "https://localhost:8080/",
          "height": 564
        },
        "id": "nKbx84QD343s",
        "outputId": "7227faac-d6b3-4a9e-b139-09fb51357e5e"
      },
      "id": "nKbx84QD343s",
      "execution_count": null,
      "outputs": [
        {
          "output_type": "display_data",
          "data": {
            "text/plain": [
              "<Figure size 1200x600 with 1 Axes>"
            ],
            "image/png": "[encoded data removed]"
          },
          "metadata": {}
        }
      ]
    },
    {
      "cell_type": "code",
      "source": [
        "Transaction_Amount_legit"
      ],
      "metadata": {
        "colab": {
          "base_uri": "https://localhost:8080/",
          "height": 112
        },
        "id": "ZVGZJ0tv6eIy",
        "outputId": "04a43890-8bfd-4451-a85c-579447e2f6cf"
      },
      "id": "ZVGZJ0tv6eIy",
      "execution_count": null,
      "outputs": [
        {
          "output_type": "execute_result",
          "data": {
            "text/plain": [
              "   Day     Amount\n",
              "0  0.0  90.382588\n",
              "1  1.0  86.129219"
            ],
            "text/html": [
              "\n",
              "  <div id=\"df-de1cdd60-580b-46e2-9f7e-143101e5b55e\" class=\"colab-df-container\">\n",
              "    <div>\n",
              "<style scoped>\n",
              "    .dataframe tbody tr th:only-of-type {\n",
              "        vertical-align: middle;\n",
              "    }\n",
              "\n",
              "    .dataframe tbody tr th {\n",
              "        vertical-align: top;\n",
              "    }\n",
              "\n",
              "    .dataframe thead th {\n",
              "        text-align: right;\n",
              "    }\n",
              "</style>\n",
              "<table border=\"1\" class=\"dataframe\">\n",
              "  <thead>\n",
              "    <tr style=\"text-align: right;\">\n",
              "      <th></th>\n",
              "      <th>Day</th>\n",
              "      <th>Amount</th>\n",
              "    </tr>\n",
              "  </thead>\n",
              "  <tbody>\n",
              "    <tr>\n",
              "      <th>0</th>\n",
              "      <td>0.0</td>\n",
              "      <td>90.382588</td>\n",
              "    </tr>\n",
              "    <tr>\n",
              "      <th>1</th>\n",
              "      <td>1.0</td>\n",
              "      <td>86.129219</td>\n",
              "    </tr>\n",
              "  </tbody>\n",
              "</table>\n",
              "</div>\n",
              "    <div class=\"colab-df-buttons\">\n",
              "\n",
              "  <div class=\"colab-df-container\">\n",
              "    <button class=\"colab-df-convert\" onclick=\"convertToInteractive('df-de1cdd60-580b-46e2-9f7e-143101e5b55e')\"\n",
              "            title=\"Convert this dataframe to an interactive table.\"\n",
              "            style=\"display:none;\">\n",
              "\n",
              "  <svg xmlns=\"http://www.w3.org/2000/svg\" height=\"24px\" viewBox=\"0 -960 960 960\">\n",
              "    <path d=\"M120-120v-720h720v720H120Zm60-500h600v-160H180v160Zm220 220h160v-160H400v160Zm0 220h160v-160H400v160ZM180-400h160v-160H180v160Zm440 0h160v-160H620v160ZM180-180h160v-160H180v160Zm440 0h160v-160H620v160Z\"/>\n",
              "  </svg>\n",
              "    </button>\n",
              "\n",
              "  <style>\n",
              "    .colab-df-container {\n",
              "      display:flex;\n",
              "      gap: 12px;\n",
              "    }\n",
              "\n",
              "    .colab-df-convert {\n",
              "      background-color: #E8F0FE;\n",
              "      border: none;\n",
              "      border-radius: 50%;\n",
              "      cursor: pointer;\n",
              "      display: none;\n",
              "      fill: #1967D2;\n",
              "      height: 32px;\n",
              "      padding: 0 0 0 0;\n",
              "      width: 32px;\n",
              "    }\n",
              "\n",
              "    .colab-df-convert:hover {\n",
              "      background-color: #E2EBFA;\n",
              "      box-shadow: 0px 1px 2px rgba(60, 64, 67, 0.3), 0px 1px 3px 1px rgba(60, 64, 67, 0.15);\n",
              "      fill: #174EA6;\n",
              "    }\n",
              "\n",
              "    .colab-df-buttons div {\n",
              "      margin-bottom: 4px;\n",
              "    }\n",
              "\n",
              "    [theme=dark] .colab-df-convert {\n",
              "      background-color: #3B4455;\n",
              "      fill: #D2E3FC;\n",
              "    }\n",
              "\n",
              "    [theme=dark] .colab-df-convert:hover {\n",
              "      background-color: #434B5C;\n",
              "      box-shadow: 0px 1px 3px 1px rgba(0, 0, 0, 0.15);\n",
              "      filter: drop-shadow(0px 1px 2px rgba(0, 0, 0, 0.3));\n",
              "      fill: #FFFFFF;\n",
              "    }\n",
              "  </style>\n",
              "\n",
              "    <script>\n",
              "      const buttonEl =\n",
              "        document.querySelector('#df-de1cdd60-580b-46e2-9f7e-143101e5b55e button.colab-df-convert');\n",
              "      buttonEl.style.display =\n",
              "        google.colab.kernel.accessAllowed ? 'block' : 'none';\n",
              "\n",
              "      async function convertToInteractive(key) {\n",
              "        const element = document.querySelector('#df-de1cdd60-580b-46e2-9f7e-143101e5b55e');\n",
              "        const dataTable =\n",
              "          await google.colab.kernel.invokeFunction('convertToInteractive',\n",
              "                                                    [key], {});\n",
              "        if (!dataTable) return;\n",
              "\n",
              "        const docLinkHtml = 'Like what you see? Visit the ' +\n",
              "          '<a target=\"_blank\" href=https://colab.research.google.com/notebooks/data_table.ipynb>data table notebook</a>'\n",
              "          + ' to learn more about interactive tables.';\n",
              "        element.innerHTML = '';\n",
              "        dataTable['output_type'] = 'display_data';\n",
              "        await google.colab.output.renderOutput(dataTable, element);\n",
              "        const docLink = document.createElement('div');\n",
              "        docLink.innerHTML = docLinkHtml;\n",
              "        element.appendChild(docLink);\n",
              "      }\n",
              "    </script>\n",
              "  </div>\n",
              "\n",
              "\n",
              "<div id=\"df-402122fd-869a-4e1f-8e59-0b22ac6e7c96\">\n",
              "  <button class=\"colab-df-quickchart\" onclick=\"quickchart('df-402122fd-869a-4e1f-8e59-0b22ac6e7c96')\"\n",
              "            title=\"Suggest charts\"\n",
              "            style=\"display:none;\">\n",
              "\n",
              "<svg xmlns=\"http://www.w3.org/2000/svg\" height=\"24px\"viewBox=\"0 0 24 24\"\n",
              "     width=\"24px\">\n",
              "    <g>\n",
              "        <path d=\"M19 3H5c-1.1 0-2 .9-2 2v14c0 1.1.9 2 2 2h14c1.1 0 2-.9 2-2V5c0-1.1-.9-2-2-2zM9 17H7v-7h2v7zm4 0h-2V7h2v10zm4 0h-2v-4h2v4z\"/>\n",
              "    </g>\n",
              "</svg>\n",
              "  </button>\n",
              "\n",
              "<style>\n",
              "  .colab-df-quickchart {\n",
              "      --bg-color: #E8F0FE;\n",
              "      --fill-color: #1967D2;\n",
              "      --hover-bg-color: #E2EBFA;\n",
              "      --hover-fill-color: #174EA6;\n",
              "      --disabled-fill-color: #AAA;\n",
              "      --disabled-bg-color: #DDD;\n",
              "  }\n",
              "\n",
              "  [theme=dark] .colab-df-quickchart {\n",
              "      --bg-color: #3B4455;\n",
              "      --fill-color: #D2E3FC;\n",
              "      --hover-bg-color: #434B5C;\n",
              "      --hover-fill-color: #FFFFFF;\n",
              "      --disabled-bg-color: #3B4455;\n",
              "      --disabled-fill-color: #666;\n",
              "  }\n",
              "\n",
              "  .colab-df-quickchart {\n",
              "    background-color: var(--bg-color);\n",
              "    border: none;\n",
              "    border-radius: 50%;\n",
              "    cursor: pointer;\n",
              "    display: none;\n",
              "    fill: var(--fill-color);\n",
              "    height: 32px;\n",
              "    padding: 0;\n",
              "    width: 32px;\n",
              "  }\n",
              "\n",
              "  .colab-df-quickchart:hover {\n",
              "    background-color: var(--hover-bg-color);\n",
              "    box-shadow: 0 1px 2px rgba(60, 64, 67, 0.3), 0 1px 3px 1px rgba(60, 64, 67, 0.15);\n",
              "    fill: var(--button-hover-fill-color);\n",
              "  }\n",
              "\n",
              "  .colab-df-quickchart-complete:disabled,\n",
              "  .colab-df-quickchart-complete:disabled:hover {\n",
              "    background-color: var(--disabled-bg-color);\n",
              "    fill: var(--disabled-fill-color);\n",
              "    box-shadow: none;\n",
              "  }\n",
              "\n",
              "  .colab-df-spinner {\n",
              "    border: 2px solid var(--fill-color);\n",
              "    border-color: transparent;\n",
              "    border-bottom-color: var(--fill-color);\n",
              "    animation:\n",
              "      spin 1s steps(1) infinite;\n",
              "  }\n",
              "\n",
              "  @keyframes spin {\n",
              "    0% {\n",
              "      border-color: transparent;\n",
              "      border-bottom-color: var(--fill-color);\n",
              "      border-left-color: var(--fill-color);\n",
              "    }\n",
              "    20% {\n",
              "      border-color: transparent;\n",
              "      border-left-color: var(--fill-color);\n",
              "      border-top-color: var(--fill-color);\n",
              "    }\n",
              "    30% {\n",
              "      border-color: transparent;\n",
              "      border-left-color: var(--fill-color);\n",
              "      border-top-color: var(--fill-color);\n",
              "      border-right-color: var(--fill-color);\n",
              "    }\n",
              "    40% {\n",
              "      border-color: transparent;\n",
              "      border-right-color: var(--fill-color);\n",
              "      border-top-color: var(--fill-color);\n",
              "    }\n",
              "    60% {\n",
              "      border-color: transparent;\n",
              "      border-right-color: var(--fill-color);\n",
              "    }\n",
              "    80% {\n",
              "      border-color: transparent;\n",
              "      border-right-color: var(--fill-color);\n",
              "      border-bottom-color: var(--fill-color);\n",
              "    }\n",
              "    90% {\n",
              "      border-color: transparent;\n",
              "      border-bottom-color: var(--fill-color);\n",
              "    }\n",
              "  }\n",
              "</style>\n",
              "\n",
              "  <script>\n",
              "    async function quickchart(key) {\n",
              "      const quickchartButtonEl =\n",
              "        document.querySelector('#' + key + ' button');\n",
              "      quickchartButtonEl.disabled = true;  // To prevent multiple clicks.\n",
              "      quickchartButtonEl.classList.add('colab-df-spinner');\n",
              "      try {\n",
              "        const charts = await google.colab.kernel.invokeFunction(\n",
              "            'suggestCharts', [key], {});\n",
              "      } catch (error) {\n",
              "        console.error('Error during call to suggestCharts:', error);\n",
              "      }\n",
              "      quickchartButtonEl.classList.remove('colab-df-spinner');\n",
              "      quickchartButtonEl.classList.add('colab-df-quickchart-complete');\n",
              "    }\n",
              "    (() => {\n",
              "      let quickchartButtonEl =\n",
              "        document.querySelector('#df-402122fd-869a-4e1f-8e59-0b22ac6e7c96 button');\n",
              "      quickchartButtonEl.style.display =\n",
              "        google.colab.kernel.accessAllowed ? 'block' : 'none';\n",
              "    })();\n",
              "  </script>\n",
              "</div>\n",
              "    </div>\n",
              "  </div>\n"
            ]
          },
          "metadata": {},
          "execution_count": 23
        }
      ]
    },
    {
      "cell_type": "code",
      "source": [
        "Transaction_Amount_fraud"
      ],
      "metadata": {
        "colab": {
          "base_uri": "https://localhost:8080/",
          "height": 112
        },
        "id": "aFM7TKVQiNJr",
        "outputId": "d682ddad-830e-499b-8888-fac17fc7a585"
      },
      "id": "aFM7TKVQiNJr",
      "execution_count": null,
      "outputs": [
        {
          "output_type": "execute_result",
          "data": {
            "text/plain": [
              "   Day      Amount\n",
              "0  0.0  118.288648\n",
              "1  1.0  127.435355"
            ],
            "text/html": [
              "\n",
              "  <div id=\"df-f948fd3b-3ad6-4d0c-877c-51a773853631\" class=\"colab-df-container\">\n",
              "    <div>\n",
              "<style scoped>\n",
              "    .dataframe tbody tr th:only-of-type {\n",
              "        vertical-align: middle;\n",
              "    }\n",
              "\n",
              "    .dataframe tbody tr th {\n",
              "        vertical-align: top;\n",
              "    }\n",
              "\n",
              "    .dataframe thead th {\n",
              "        text-align: right;\n",
              "    }\n",
              "</style>\n",
              "<table border=\"1\" class=\"dataframe\">\n",
              "  <thead>\n",
              "    <tr style=\"text-align: right;\">\n",
              "      <th></th>\n",
              "      <th>Day</th>\n",
              "      <th>Amount</th>\n",
              "    </tr>\n",
              "  </thead>\n",
              "  <tbody>\n",
              "    <tr>\n",
              "      <th>0</th>\n",
              "      <td>0.0</td>\n",
              "      <td>118.288648</td>\n",
              "    </tr>\n",
              "    <tr>\n",
              "      <th>1</th>\n",
              "      <td>1.0</td>\n",
              "      <td>127.435355</td>\n",
              "    </tr>\n",
              "  </tbody>\n",
              "</table>\n",
              "</div>\n",
              "    <div class=\"colab-df-buttons\">\n",
              "\n",
              "  <div class=\"colab-df-container\">\n",
              "    <button class=\"colab-df-convert\" onclick=\"convertToInteractive('df-f948fd3b-3ad6-4d0c-877c-51a773853631')\"\n",
              "            title=\"Convert this dataframe to an interactive table.\"\n",
              "            style=\"display:none;\">\n",
              "\n",
              "  <svg xmlns=\"http://www.w3.org/2000/svg\" height=\"24px\" viewBox=\"0 -960 960 960\">\n",
              "    <path d=\"M120-120v-720h720v720H120Zm60-500h600v-160H180v160Zm220 220h160v-160H400v160Zm0 220h160v-160H400v160ZM180-400h160v-160H180v160Zm440 0h160v-160H620v160ZM180-180h160v-160H180v160Zm440 0h160v-160H620v160Z\"/>\n",
              "  </svg>\n",
              "    </button>\n",
              "\n",
              "  <style>\n",
              "    .colab-df-container {\n",
              "      display:flex;\n",
              "      gap: 12px;\n",
              "    }\n",
              "\n",
              "    .colab-df-convert {\n",
              "      background-color: #E8F0FE;\n",
              "      border: none;\n",
              "      border-radius: 50%;\n",
              "      cursor: pointer;\n",
              "      display: none;\n",
              "      fill: #1967D2;\n",
              "      height: 32px;\n",
              "      padding: 0 0 0 0;\n",
              "      width: 32px;\n",
              "    }\n",
              "\n",
              "    .colab-df-convert:hover {\n",
              "      background-color: #E2EBFA;\n",
              "      box-shadow: 0px 1px 2px rgba(60, 64, 67, 0.3), 0px 1px 3px 1px rgba(60, 64, 67, 0.15);\n",
              "      fill: #174EA6;\n",
              "    }\n",
              "\n",
              "    .colab-df-buttons div {\n",
              "      margin-bottom: 4px;\n",
              "    }\n",
              "\n",
              "    [theme=dark] .colab-df-convert {\n",
              "      background-color: #3B4455;\n",
              "      fill: #D2E3FC;\n",
              "    }\n",
              "\n",
              "    [theme=dark] .colab-df-convert:hover {\n",
              "      background-color: #434B5C;\n",
              "      box-shadow: 0px 1px 3px 1px rgba(0, 0, 0, 0.15);\n",
              "      filter: drop-shadow(0px 1px 2px rgba(0, 0, 0, 0.3));\n",
              "      fill: #FFFFFF;\n",
              "    }\n",
              "  </style>\n",
              "\n",
              "    <script>\n",
              "      const buttonEl =\n",
              "        document.querySelector('#df-f948fd3b-3ad6-4d0c-877c-51a773853631 button.colab-df-convert');\n",
              "      buttonEl.style.display =\n",
              "        google.colab.kernel.accessAllowed ? 'block' : 'none';\n",
              "\n",
              "      async function convertToInteractive(key) {\n",
              "        const element = document.querySelector('#df-f948fd3b-3ad6-4d0c-877c-51a773853631');\n",
              "        const dataTable =\n",
              "          await google.colab.kernel.invokeFunction('convertToInteractive',\n",
              "                                                    [key], {});\n",
              "        if (!dataTable) return;\n",
              "\n",
              "        const docLinkHtml = 'Like what you see? Visit the ' +\n",
              "          '<a target=\"_blank\" href=https://colab.research.google.com/notebooks/data_table.ipynb>data table notebook</a>'\n",
              "          + ' to learn more about interactive tables.';\n",
              "        element.innerHTML = '';\n",
              "        dataTable['output_type'] = 'display_data';\n",
              "        await google.colab.output.renderOutput(dataTable, element);\n",
              "        const docLink = document.createElement('div');\n",
              "        docLink.innerHTML = docLinkHtml;\n",
              "        element.appendChild(docLink);\n",
              "      }\n",
              "    </script>\n",
              "  </div>\n",
              "\n",
              "\n",
              "<div id=\"df-aa038c7a-f41a-468c-b6fd-f0146c78edec\">\n",
              "  <button class=\"colab-df-quickchart\" onclick=\"quickchart('df-aa038c7a-f41a-468c-b6fd-f0146c78edec')\"\n",
              "            title=\"Suggest charts\"\n",
              "            style=\"display:none;\">\n",
              "\n",
              "<svg xmlns=\"http://www.w3.org/2000/svg\" height=\"24px\"viewBox=\"0 0 24 24\"\n",
              "     width=\"24px\">\n",
              "    <g>\n",
              "        <path d=\"M19 3H5c-1.1 0-2 .9-2 2v14c0 1.1.9 2 2 2h14c1.1 0 2-.9 2-2V5c0-1.1-.9-2-2-2zM9 17H7v-7h2v7zm4 0h-2V7h2v10zm4 0h-2v-4h2v4z\"/>\n",
              "    </g>\n",
              "</svg>\n",
              "  </button>\n",
              "\n",
              "<style>\n",
              "  .colab-df-quickchart {\n",
              "      --bg-color: #E8F0FE;\n",
              "      --fill-color: #1967D2;\n",
              "      --hover-bg-color: #E2EBFA;\n",
              "      --hover-fill-color: #174EA6;\n",
              "      --disabled-fill-color: #AAA;\n",
              "      --disabled-bg-color: #DDD;\n",
              "  }\n",
              "\n",
              "  [theme=dark] .colab-df-quickchart {\n",
              "      --bg-color: #3B4455;\n",
              "      --fill-color: #D2E3FC;\n",
              "      --hover-bg-color: #434B5C;\n",
              "      --hover-fill-color: #FFFFFF;\n",
              "      --disabled-bg-color: #3B4455;\n",
              "      --disabled-fill-color: #666;\n",
              "  }\n",
              "\n",
              "  .colab-df-quickchart {\n",
              "    background-color: var(--bg-color);\n",
              "    border: none;\n",
              "    border-radius: 50%;\n",
              "    cursor: pointer;\n",
              "    display: none;\n",
              "    fill: var(--fill-color);\n",
              "    height: 32px;\n",
              "    padding: 0;\n",
              "    width: 32px;\n",
              "  }\n",
              "\n",
              "  .colab-df-quickchart:hover {\n",
              "    background-color: var(--hover-bg-color);\n",
              "    box-shadow: 0 1px 2px rgba(60, 64, 67, 0.3), 0 1px 3px 1px rgba(60, 64, 67, 0.15);\n",
              "    fill: var(--button-hover-fill-color);\n",
              "  }\n",
              "\n",
              "  .colab-df-quickchart-complete:disabled,\n",
              "  .colab-df-quickchart-complete:disabled:hover {\n",
              "    background-color: var(--disabled-bg-color);\n",
              "    fill: var(--disabled-fill-color);\n",
              "    box-shadow: none;\n",
              "  }\n",
              "\n",
              "  .colab-df-spinner {\n",
              "    border: 2px solid var(--fill-color);\n",
              "    border-color: transparent;\n",
              "    border-bottom-color: var(--fill-color);\n",
              "    animation:\n",
              "      spin 1s steps(1) infinite;\n",
              "  }\n",
              "\n",
              "  @keyframes spin {\n",
              "    0% {\n",
              "      border-color: transparent;\n",
              "      border-bottom-color: var(--fill-color);\n",
              "      border-left-color: var(--fill-color);\n",
              "    }\n",
              "    20% {\n",
              "      border-color: transparent;\n",
              "      border-left-color: var(--fill-color);\n",
              "      border-top-color: var(--fill-color);\n",
              "    }\n",
              "    30% {\n",
              "      border-color: transparent;\n",
              "      border-left-color: var(--fill-color);\n",
              "      border-top-color: var(--fill-color);\n",
              "      border-right-color: var(--fill-color);\n",
              "    }\n",
              "    40% {\n",
              "      border-color: transparent;\n",
              "      border-right-color: var(--fill-color);\n",
              "      border-top-color: var(--fill-color);\n",
              "    }\n",
              "    60% {\n",
              "      border-color: transparent;\n",
              "      border-right-color: var(--fill-color);\n",
              "    }\n",
              "    80% {\n",
              "      border-color: transparent;\n",
              "      border-right-color: var(--fill-color);\n",
              "      border-bottom-color: var(--fill-color);\n",
              "    }\n",
              "    90% {\n",
              "      border-color: transparent;\n",
              "      border-bottom-color: var(--fill-color);\n",
              "    }\n",
              "  }\n",
              "</style>\n",
              "\n",
              "  <script>\n",
              "    async function quickchart(key) {\n",
              "      const quickchartButtonEl =\n",
              "        document.querySelector('#' + key + ' button');\n",
              "      quickchartButtonEl.disabled = true;  // To prevent multiple clicks.\n",
              "      quickchartButtonEl.classList.add('colab-df-spinner');\n",
              "      try {\n",
              "        const charts = await google.colab.kernel.invokeFunction(\n",
              "            'suggestCharts', [key], {});\n",
              "      } catch (error) {\n",
              "        console.error('Error during call to suggestCharts:', error);\n",
              "      }\n",
              "      quickchartButtonEl.classList.remove('colab-df-spinner');\n",
              "      quickchartButtonEl.classList.add('colab-df-quickchart-complete');\n",
              "    }\n",
              "    (() => {\n",
              "      let quickchartButtonEl =\n",
              "        document.querySelector('#df-aa038c7a-f41a-468c-b6fd-f0146c78edec button');\n",
              "      quickchartButtonEl.style.display =\n",
              "        google.colab.kernel.accessAllowed ? 'block' : 'none';\n",
              "    })();\n",
              "  </script>\n",
              "</div>\n",
              "    </div>\n",
              "  </div>\n"
            ]
          },
          "metadata": {},
          "execution_count": 24
        }
      ]
    },
    {
      "cell_type": "markdown",
      "source": [
        "**Dist plot** : shows that it is right skewed distribution for both transactions"
      ],
      "metadata": {
        "id": "2kFMwSvKjZ__"
      },
      "id": "2kFMwSvKjZ__"
    },
    {
      "cell_type": "code",
      "execution_count": null,
      "id": "9cbc6a92",
      "metadata": {
        "colab": {
          "base_uri": "https://localhost:8080/",
          "height": 865
        },
        "id": "9cbc6a92",
        "outputId": "03e530e8-4275-4863-c5f9-3824394edcdf"
      },
      "outputs": [
        {
          "output_type": "stream",
          "name": "stderr",
          "text": [
            "<ipython-input-25-230c64056b61>:1: UserWarning: \n",
            "\n",
            "`distplot` is a deprecated function and will be removed in seaborn v0.14.0.\n",
            "\n",
            "Please adapt your code to use either `displot` (a figure-level function with\n",
            "similar flexibility) or `kdeplot` (an axes-level function for kernel density plots).\n",
            "\n",
            "For a guide to updating your code to use the new functions, please see\n",
            "https://gist.github.com/mwaskom/de44147ed2974457ad6372750bbe5751\n",
            "\n",
            "  sns.distplot(credit_data[credit_data['Class']==0]['Amount'],hist=False)\n",
            "<ipython-input-25-230c64056b61>:2: UserWarning: \n",
            "\n",
            "`distplot` is a deprecated function and will be removed in seaborn v0.14.0.\n",
            "\n",
            "Please adapt your code to use either `displot` (a figure-level function with\n",
            "similar flexibility) or `kdeplot` (an axes-level function for kernel density plots).\n",
            "\n",
            "For a guide to updating your code to use the new functions, please see\n",
            "https://gist.github.com/mwaskom/de44147ed2974457ad6372750bbe5751\n",
            "\n",
            "  sns.distplot(credit_data[credit_data['Class']==1]['Amount'],hist=False)\n"
          ]
        },
        {
          "output_type": "execute_result",
          "data": {
            "text/plain": [
              "<Axes: xlabel='Amount', ylabel='Density'>"
            ]
          },
          "metadata": {},
          "execution_count": 25
        },
        {
          "output_type": "display_data",
          "data": {
            "text/plain": [
              "<Figure size 640x480 with 1 Axes>"
            ],
            "image/png": "[encoded data removed]"
          },
          "metadata": {}
        }
      ],
      "source": [
        "sns.distplot(credit_data[credit_data['Class']==0]['Amount'],hist=False)\n",
        "sns.distplot(credit_data[credit_data['Class']==1]['Amount'],hist=False)"
      ]
    },
    {
      "cell_type": "markdown",
      "source": [
        "From correlation matrix : wrt to target column v17,v14,v11  are highly correlated"
      ],
      "metadata": {
        "id": "mVn8KuwWjzDH"
      },
      "id": "mVn8KuwWjzDH"
    },
    {
      "cell_type": "code",
      "execution_count": null,
      "id": "c08dd9c7",
      "metadata": {
        "colab": {
          "base_uri": "https://localhost:8080/",
          "height": 735
        },
        "id": "c08dd9c7",
        "outputId": "329e9f85-1a88-4ae9-ec4e-f24043bf840e"
      },
      "outputs": [
        {
          "output_type": "display_data",
          "data": {
            "text/plain": [
              "<Figure size 900x900 with 2 Axes>"
            ],
            "image/png": "[encoded data removed]"
          },
          "metadata": {}
        }
      ],
      "source": [
        "\n",
        "# Correlation matrix\n",
        "corrmat = credit_data.corr()\n",
        "fig = plt.figure(figsize = (9, 9))\n",
        "sns.heatmap(corrmat, vmax = .8, square = True)\n",
        "plt.show()"
      ]
    },
    {
      "cell_type": "markdown",
      "source": [
        "Visualizing the distribution plots of V17,V14,V11"
      ],
      "metadata": {
        "id": "vsJayYZjj-xk"
      },
      "id": "vsJayYZjj-xk"
    },
    {
      "cell_type": "code",
      "source": [
        "features = ['V17', 'V14', 'V11']\n",
        "\n",
        "# Create a subplot with a grid layout based on the number of features\n",
        "fig, axes = plt.subplots(1, len(features), figsize=(15, 4))\n",
        "\n",
        "for idx, feature in enumerate(features):\n",
        "    ax = axes[idx]\n",
        "\n",
        "    # Create a kernel density plot for Class 0\n",
        "    sns.distplot(credit_data[credit_data['Class'] == 0][feature], hist=False, label='Class 0', ax=ax)\n",
        "\n",
        "    # Create a kernel density plot for Class 1\n",
        "    sns.distplot(credit_data[credit_data['Class'] == 1][feature], hist=False, label='Class 1', ax=ax)\n",
        "\n",
        "    ax.set_xlabel('Feature Value')\n",
        "    ax.set_title(f'Distribution of {feature}')\n",
        "    ax.legend()\n",
        "\n",
        "plt.tight_layout()\n",
        "plt.show()\n"
      ],
      "metadata": {
        "colab": {
          "base_uri": "https://localhost:8080/",
          "height": 1000
        },
        "id": "gsOm5RD6yPGS",
        "outputId": "faecf74e-75b3-4d08-8c96-6a22f2f82c54"
      },
      "id": "gsOm5RD6yPGS",
      "execution_count": null,
      "outputs": [
        {
          "output_type": "stream",
          "name": "stderr",
          "text": [
            "<ipython-input-27-0e51900c76d7>:10: UserWarning: \n",
            "\n",
            "`distplot` is a deprecated function and will be removed in seaborn v0.14.0.\n",
            "\n",
            "Please adapt your code to use either `displot` (a figure-level function with\n",
            "similar flexibility) or `kdeplot` (an axes-level function for kernel density plots).\n",
            "\n",
            "For a guide to updating your code to use the new functions, please see\n",
            "https://gist.github.com/mwaskom/de44147ed2974457ad6372750bbe5751\n",
            "\n",
            "  sns.distplot(credit_data[credit_data['Class'] == 0][feature], hist=False, label='Class 0', ax=ax)\n",
            "<ipython-input-27-0e51900c76d7>:13: UserWarning: \n",
            "\n",
            "`distplot` is a deprecated function and will be removed in seaborn v0.14.0.\n",
            "\n",
            "Please adapt your code to use either `displot` (a figure-level function with\n",
            "similar flexibility) or `kdeplot` (an axes-level function for kernel density plots).\n",
            "\n",
            "For a guide to updating your code to use the new functions, please see\n",
            "https://gist.github.com/mwaskom/de44147ed2974457ad6372750bbe5751\n",
            "\n",
            "  sns.distplot(credit_data[credit_data['Class'] == 1][feature], hist=False, label='Class 1', ax=ax)\n",
            "<ipython-input-27-0e51900c76d7>:10: UserWarning: \n",
            "\n",
            "`distplot` is a deprecated function and will be removed in seaborn v0.14.0.\n",
            "\n",
            "Please adapt your code to use either `displot` (a figure-level function with\n",
            "similar flexibility) or `kdeplot` (an axes-level function for kernel density plots).\n",
            "\n",
            "For a guide to updating your code to use the new functions, please see\n",
            "https://gist.github.com/mwaskom/de44147ed2974457ad6372750bbe5751\n",
            "\n",
            "  sns.distplot(credit_data[credit_data['Class'] == 0][feature], hist=False, label='Class 0', ax=ax)\n",
            "<ipython-input-27-0e51900c76d7>:13: UserWarning: \n",
            "\n",
            "`distplot` is a deprecated function and will be removed in seaborn v0.14.0.\n",
            "\n",
            "Please adapt your code to use either `displot` (a figure-level function with\n",
            "similar flexibility) or `kdeplot` (an axes-level function for kernel density plots).\n",
            "\n",
            "For a guide to updating your code to use the new functions, please see\n",
            "https://gist.github.com/mwaskom/de44147ed2974457ad6372750bbe5751\n",
            "\n",
            "  sns.distplot(credit_data[credit_data['Class'] == 1][feature], hist=False, label='Class 1', ax=ax)\n",
            "<ipython-input-27-0e51900c76d7>:10: UserWarning: \n",
            "\n",
            "`distplot` is a deprecated function and will be removed in seaborn v0.14.0.\n",
            "\n",
            "Please adapt your code to use either `displot` (a figure-level function with\n",
            "similar flexibility) or `kdeplot` (an axes-level function for kernel density plots).\n",
            "\n",
            "For a guide to updating your code to use the new functions, please see\n",
            "https://gist.github.com/mwaskom/de44147ed2974457ad6372750bbe5751\n",
            "\n",
            "  sns.distplot(credit_data[credit_data['Class'] == 0][feature], hist=False, label='Class 0', ax=ax)\n",
            "<ipython-input-27-0e51900c76d7>:13: UserWarning: \n",
            "\n",
            "`distplot` is a deprecated function and will be removed in seaborn v0.14.0.\n",
            "\n",
            "Please adapt your code to use either `displot` (a figure-level function with\n",
            "similar flexibility) or `kdeplot` (an axes-level function for kernel density plots).\n",
            "\n",
            "For a guide to updating your code to use the new functions, please see\n",
            "https://gist.github.com/mwaskom/de44147ed2974457ad6372750bbe5751\n",
            "\n",
            "  sns.distplot(credit_data[credit_data['Class'] == 1][feature], hist=False, label='Class 1', ax=ax)\n"
          ]
        },
        {
          "output_type": "display_data",
          "data": {
            "text/plain": [
              "<Figure size 1500x400 with 3 Axes>"
            ],
            "image/png": "[encoded data removed]"
          },
          "metadata": {}
        }
      ]
    },
    {
      "cell_type": "code",
      "execution_count": null,
      "id": "f02bf445",
      "metadata": {
        "colab": {
          "base_uri": "https://localhost:8080/",
          "height": 255
        },
        "id": "f02bf445",
        "outputId": "983b2322-b7ce-473d-af04-ac81c405f8ea"
      },
      "outputs": [
        {
          "output_type": "execute_result",
          "data": {
            "text/plain": [
              "            Time        V1        V2        V3        V4        V5        V6  \\\n",
              "124727   77402.0  1.128873 -0.006852  1.425815  1.417553 -1.119704 -0.380717   \n",
              "45581    42410.0 -2.179179  0.151578  0.781068  0.755666 -0.663186  1.967674   \n",
              "15018    26351.0  1.344143 -1.685137  1.519642 -0.949423 -2.234013  0.771197   \n",
              "267708  162888.0  0.048600  0.812156  0.253177 -0.592487  0.371766 -1.109182   \n",
              "268319  163152.0 -1.196037  1.585949  2.883976  3.378471  1.511706  3.717077   \n",
              "\n",
              "              V7        V8        V9  ...       V22       V23       V24  \\\n",
              "124727 -0.536405  0.056732  0.833558  ...  0.105629  0.032726  0.728615   \n",
              "45581  -0.040299  1.232564 -0.521605  ...  0.166167  0.110794 -1.701593   \n",
              "15018  -2.003291  0.366806 -0.509696  ...  0.035265 -0.073788  0.049395   \n",
              "267708  0.958941 -0.161361  0.072296  ... -0.643377  0.069898 -0.051399   \n",
              "268319  0.585362 -0.156001  0.122648  ...  0.524395 -0.355170 -0.869790   \n",
              "\n",
              "             V25       V26       V27       V28  Amount  Class  Hour  \n",
              "124727  0.379201 -0.430312  0.074320  0.042259    9.99      0  21.0  \n",
              "45581   0.491245 -0.140799 -0.021031 -0.403211  199.22      0  11.0  \n",
              "15018   0.402745 -0.081142  0.105137  0.022151   31.50      0   7.0  \n",
              "267708 -0.506305  0.144605  0.242405  0.095172    2.69      0  45.0  \n",
              "268319 -0.133198  0.327804 -0.035702 -0.858197    7.56      0  45.0  \n",
              "\n",
              "[5 rows x 32 columns]"
            ],
            "text/html": [
              "\n",
              "  <div id=\"df-13cbef98-6ab1-4d5c-9b25-fae3f4769ac3\" class=\"colab-df-container\">\n",
              "    <div>\n",
              "<style scoped>\n",
              "    .dataframe tbody tr th:only-of-type {\n",
              "        vertical-align: middle;\n",
              "    }\n",
              "\n",
              "    .dataframe tbody tr th {\n",
              "        vertical-align: top;\n",
              "    }\n",
              "\n",
              "    .dataframe thead th {\n",
              "        text-align: right;\n",
              "    }\n",
              "</style>\n",
              "<table border=\"1\" class=\"dataframe\">\n",
              "  <thead>\n",
              "    <tr style=\"text-align: right;\">\n",
              "      <th></th>\n",
              "      <th>Time</th>\n",
              "      <th>V1</th>\n",
              "      <th>V2</th>\n",
              "      <th>V3</th>\n",
              "      <th>V4</th>\n",
              "      <th>V5</th>\n",
              "      <th>V6</th>\n",
              "      <th>V7</th>\n",
              "      <th>V8</th>\n",
              "      <th>V9</th>\n",
              "      <th>...</th>\n",
              "      <th>V22</th>\n",
              "      <th>V23</th>\n",
              "      <th>V24</th>\n",
              "      <th>V25</th>\n",
              "      <th>V26</th>\n",
              "      <th>V27</th>\n",
              "      <th>V28</th>\n",
              "      <th>Amount</th>\n",
              "      <th>Class</th>\n",
              "      <th>Hour</th>\n",
              "    </tr>\n",
              "  </thead>\n",
              "  <tbody>\n",
              "    <tr>\n",
              "      <th>124727</th>\n",
              "      <td>77402.0</td>\n",
              "      <td>1.128873</td>\n",
              "      <td>-0.006852</td>\n",
              "      <td>1.425815</td>\n",
              "      <td>1.417553</td>\n",
              "      <td>-1.119704</td>\n",
              "      <td>-0.380717</td>\n",
              "      <td>-0.536405</td>\n",
              "      <td>0.056732</td>\n",
              "      <td>0.833558</td>\n",
              "      <td>...</td>\n",
              "      <td>0.105629</td>\n",
              "      <td>0.032726</td>\n",
              "      <td>0.728615</td>\n",
              "      <td>0.379201</td>\n",
              "      <td>-0.430312</td>\n",
              "      <td>0.074320</td>\n",
              "      <td>0.042259</td>\n",
              "      <td>9.99</td>\n",
              "      <td>0</td>\n",
              "      <td>21.0</td>\n",
              "    </tr>\n",
              "    <tr>\n",
              "      <th>45581</th>\n",
              "      <td>42410.0</td>\n",
              "      <td>-2.179179</td>\n",
              "      <td>0.151578</td>\n",
              "      <td>0.781068</td>\n",
              "      <td>0.755666</td>\n",
              "      <td>-0.663186</td>\n",
              "      <td>1.967674</td>\n",
              "      <td>-0.040299</td>\n",
              "      <td>1.232564</td>\n",
              "      <td>-0.521605</td>\n",
              "      <td>...</td>\n",
              "      <td>0.166167</td>\n",
              "      <td>0.110794</td>\n",
              "      <td>-1.701593</td>\n",
              "      <td>0.491245</td>\n",
              "      <td>-0.140799</td>\n",
              "      <td>-0.021031</td>\n",
              "      <td>-0.403211</td>\n",
              "      <td>199.22</td>\n",
              "      <td>0</td>\n",
              "      <td>11.0</td>\n",
              "    </tr>\n",
              "    <tr>\n",
              "      <th>15018</th>\n",
              "      <td>26351.0</td>\n",
              "      <td>1.344143</td>\n",
              "      <td>-1.685137</td>\n",
              "      <td>1.519642</td>\n",
              "      <td>-0.949423</td>\n",
              "      <td>-2.234013</td>\n",
              "      <td>0.771197</td>\n",
              "      <td>-2.003291</td>\n",
              "      <td>0.366806</td>\n",
              "      <td>-0.509696</td>\n",
              "      <td>...</td>\n",
              "      <td>0.035265</td>\n",
              "      <td>-0.073788</td>\n",
              "      <td>0.049395</td>\n",
              "      <td>0.402745</td>\n",
              "      <td>-0.081142</td>\n",
              "      <td>0.105137</td>\n",
              "      <td>0.022151</td>\n",
              "      <td>31.50</td>\n",
              "      <td>0</td>\n",
              "      <td>7.0</td>\n",
              "    </tr>\n",
              "    <tr>\n",
              "      <th>267708</th>\n",
              "      <td>162888.0</td>\n",
              "      <td>0.048600</td>\n",
              "      <td>0.812156</td>\n",
              "      <td>0.253177</td>\n",
              "      <td>-0.592487</td>\n",
              "      <td>0.371766</td>\n",
              "      <td>-1.109182</td>\n",
              "      <td>0.958941</td>\n",
              "      <td>-0.161361</td>\n",
              "      <td>0.072296</td>\n",
              "      <td>...</td>\n",
              "      <td>-0.643377</td>\n",
              "      <td>0.069898</td>\n",
              "      <td>-0.051399</td>\n",
              "      <td>-0.506305</td>\n",
              "      <td>0.144605</td>\n",
              "      <td>0.242405</td>\n",
              "      <td>0.095172</td>\n",
              "      <td>2.69</td>\n",
              "      <td>0</td>\n",
              "      <td>45.0</td>\n",
              "    </tr>\n",
              "    <tr>\n",
              "      <th>268319</th>\n",
              "      <td>163152.0</td>\n",
              "      <td>-1.196037</td>\n",
              "      <td>1.585949</td>\n",
              "      <td>2.883976</td>\n",
              "      <td>3.378471</td>\n",
              "      <td>1.511706</td>\n",
              "      <td>3.717077</td>\n",
              "      <td>0.585362</td>\n",
              "      <td>-0.156001</td>\n",
              "      <td>0.122648</td>\n",
              "      <td>...</td>\n",
              "      <td>0.524395</td>\n",
              "      <td>-0.355170</td>\n",
              "      <td>-0.869790</td>\n",
              "      <td>-0.133198</td>\n",
              "      <td>0.327804</td>\n",
              "      <td>-0.035702</td>\n",
              "      <td>-0.858197</td>\n",
              "      <td>7.56</td>\n",
              "      <td>0</td>\n",
              "      <td>45.0</td>\n",
              "    </tr>\n",
              "  </tbody>\n",
              "</table>\n",
              "<p>5 rows × 32 columns</p>\n",
              "</div>\n",
              "    <div class=\"colab-df-buttons\">\n",
              "\n",
              "  <div class=\"colab-df-container\">\n",
              "    <button class=\"colab-df-convert\" onclick=\"convertToInteractive('df-13cbef98-6ab1-4d5c-9b25-fae3f4769ac3')\"\n",
              "            title=\"Convert this dataframe to an interactive table.\"\n",
              "            style=\"display:none;\">\n",
              "\n",
              "  <svg xmlns=\"http://www.w3.org/2000/svg\" height=\"24px\" viewBox=\"0 -960 960 960\">\n",
              "    <path d=\"M120-120v-720h720v720H120Zm60-500h600v-160H180v160Zm220 220h160v-160H400v160Zm0 220h160v-160H400v160ZM180-400h160v-160H180v160Zm440 0h160v-160H620v160ZM180-180h160v-160H180v160Zm440 0h160v-160H620v160Z\"/>\n",
              "  </svg>\n",
              "    </button>\n",
              "\n",
              "  <style>\n",
              "    .colab-df-container {\n",
              "      display:flex;\n",
              "      gap: 12px;\n",
              "    }\n",
              "\n",
              "    .colab-df-convert {\n",
              "      background-color: #E8F0FE;\n",
              "      border: none;\n",
              "      border-radius: 50%;\n",
              "      cursor: pointer;\n",
              "      display: none;\n",
              "      fill: #1967D2;\n",
              "      height: 32px;\n",
              "      padding: 0 0 0 0;\n",
              "      width: 32px;\n",
              "    }\n",
              "\n",
              "    .colab-df-convert:hover {\n",
              "      background-color: #E2EBFA;\n",
              "      box-shadow: 0px 1px 2px rgba(60, 64, 67, 0.3), 0px 1px 3px 1px rgba(60, 64, 67, 0.15);\n",
              "      fill: #174EA6;\n",
              "    }\n",
              "\n",
              "    .colab-df-buttons div {\n",
              "      margin-bottom: 4px;\n",
              "    }\n",
              "\n",
              "    [theme=dark] .colab-df-convert {\n",
              "      background-color: #3B4455;\n",
              "      fill: #D2E3FC;\n",
              "    }\n",
              "\n",
              "    [theme=dark] .colab-df-convert:hover {\n",
              "      background-color: #434B5C;\n",
              "      box-shadow: 0px 1px 3px 1px rgba(0, 0, 0, 0.15);\n",
              "      filter: drop-shadow(0px 1px 2px rgba(0, 0, 0, 0.3));\n",
              "      fill: #FFFFFF;\n",
              "    }\n",
              "  </style>\n",
              "\n",
              "    <script>\n",
              "      const buttonEl =\n",
              "        document.querySelector('#df-13cbef98-6ab1-4d5c-9b25-fae3f4769ac3 button.colab-df-convert');\n",
              "      buttonEl.style.display =\n",
              "        google.colab.kernel.accessAllowed ? 'block' : 'none';\n",
              "\n",
              "      async function convertToInteractive(key) {\n",
              "        const element = document.querySelector('#df-13cbef98-6ab1-4d5c-9b25-fae3f4769ac3');\n",
              "        const dataTable =\n",
              "          await google.colab.kernel.invokeFunction('convertToInteractive',\n",
              "                                                    [key], {});\n",
              "        if (!dataTable) return;\n",
              "\n",
              "        const docLinkHtml = 'Like what you see? Visit the ' +\n",
              "          '<a target=\"_blank\" href=https://colab.research.google.com/notebooks/data_table.ipynb>data table notebook</a>'\n",
              "          + ' to learn more about interactive tables.';\n",
              "        element.innerHTML = '';\n",
              "        dataTable['output_type'] = 'display_data';\n",
              "        await google.colab.output.renderOutput(dataTable, element);\n",
              "        const docLink = document.createElement('div');\n",
              "        docLink.innerHTML = docLinkHtml;\n",
              "        element.appendChild(docLink);\n",
              "      }\n",
              "    </script>\n",
              "  </div>\n",
              "\n",
              "\n",
              "<div id=\"df-e6a493af-9e4d-41f2-be27-8b011670e960\">\n",
              "  <button class=\"colab-df-quickchart\" onclick=\"quickchart('df-e6a493af-9e4d-41f2-be27-8b011670e960')\"\n",
              "            title=\"Suggest charts\"\n",
              "            style=\"display:none;\">\n",
              "\n",
              "<svg xmlns=\"http://www.w3.org/2000/svg\" height=\"24px\"viewBox=\"0 0 24 24\"\n",
              "     width=\"24px\">\n",
              "    <g>\n",
              "        <path d=\"M19 3H5c-1.1 0-2 .9-2 2v14c0 1.1.9 2 2 2h14c1.1 0 2-.9 2-2V5c0-1.1-.9-2-2-2zM9 17H7v-7h2v7zm4 0h-2V7h2v10zm4 0h-2v-4h2v4z\"/>\n",
              "    </g>\n",
              "</svg>\n",
              "  </button>\n",
              "\n",
              "<style>\n",
              "  .colab-df-quickchart {\n",
              "      --bg-color: #E8F0FE;\n",
              "      --fill-color: #1967D2;\n",
              "      --hover-bg-color: #E2EBFA;\n",
              "      --hover-fill-color: #174EA6;\n",
              "      --disabled-fill-color: #AAA;\n",
              "      --disabled-bg-color: #DDD;\n",
              "  }\n",
              "\n",
              "  [theme=dark] .colab-df-quickchart {\n",
              "      --bg-color: #3B4455;\n",
              "      --fill-color: #D2E3FC;\n",
              "      --hover-bg-color: #434B5C;\n",
              "      --hover-fill-color: #FFFFFF;\n",
              "      --disabled-bg-color: #3B4455;\n",
              "      --disabled-fill-color: #666;\n",
              "  }\n",
              "\n",
              "  .colab-df-quickchart {\n",
              "    background-color: var(--bg-color);\n",
              "    border: none;\n",
              "    border-radius: 50%;\n",
              "    cursor: pointer;\n",
              "    display: none;\n",
              "    fill: var(--fill-color);\n",
              "    height: 32px;\n",
              "    padding: 0;\n",
              "    width: 32px;\n",
              "  }\n",
              "\n",
              "  .colab-df-quickchart:hover {\n",
              "    background-color: var(--hover-bg-color);\n",
              "    box-shadow: 0 1px 2px rgba(60, 64, 67, 0.3), 0 1px 3px 1px rgba(60, 64, 67, 0.15);\n",
              "    fill: var(--button-hover-fill-color);\n",
              "  }\n",
              "\n",
              "  .colab-df-quickchart-complete:disabled,\n",
              "  .colab-df-quickchart-complete:disabled:hover {\n",
              "    background-color: var(--disabled-bg-color);\n",
              "    fill: var(--disabled-fill-color);\n",
              "    box-shadow: none;\n",
              "  }\n",
              "\n",
              "  .colab-df-spinner {\n",
              "    border: 2px solid var(--fill-color);\n",
              "    border-color: transparent;\n",
              "    border-bottom-color: var(--fill-color);\n",
              "    animation:\n",
              "      spin 1s steps(1) infinite;\n",
              "  }\n",
              "\n",
              "  @keyframes spin {\n",
              "    0% {\n",
              "      border-color: transparent;\n",
              "      border-bottom-color: var(--fill-color);\n",
              "      border-left-color: var(--fill-color);\n",
              "    }\n",
              "    20% {\n",
              "      border-color: transparent;\n",
              "      border-left-color: var(--fill-color);\n",
              "      border-top-color: var(--fill-color);\n",
              "    }\n",
              "    30% {\n",
              "      border-color: transparent;\n",
              "      border-left-color: var(--fill-color);\n",
              "      border-top-color: var(--fill-color);\n",
              "      border-right-color: var(--fill-color);\n",
              "    }\n",
              "    40% {\n",
              "      border-color: transparent;\n",
              "      border-right-color: var(--fill-color);\n",
              "      border-top-color: var(--fill-color);\n",
              "    }\n",
              "    60% {\n",
              "      border-color: transparent;\n",
              "      border-right-color: var(--fill-color);\n",
              "    }\n",
              "    80% {\n",
              "      border-color: transparent;\n",
              "      border-right-color: var(--fill-color);\n",
              "      border-bottom-color: var(--fill-color);\n",
              "    }\n",
              "    90% {\n",
              "      border-color: transparent;\n",
              "      border-bottom-color: var(--fill-color);\n",
              "    }\n",
              "  }\n",
              "</style>\n",
              "\n",
              "  <script>\n",
              "    async function quickchart(key) {\n",
              "      const quickchartButtonEl =\n",
              "        document.querySelector('#' + key + ' button');\n",
              "      quickchartButtonEl.disabled = true;  // To prevent multiple clicks.\n",
              "      quickchartButtonEl.classList.add('colab-df-spinner');\n",
              "      try {\n",
              "        const charts = await google.colab.kernel.invokeFunction(\n",
              "            'suggestCharts', [key], {});\n",
              "      } catch (error) {\n",
              "        console.error('Error during call to suggestCharts:', error);\n",
              "      }\n",
              "      quickchartButtonEl.classList.remove('colab-df-spinner');\n",
              "      quickchartButtonEl.classList.add('colab-df-quickchart-complete');\n",
              "    }\n",
              "    (() => {\n",
              "      let quickchartButtonEl =\n",
              "        document.querySelector('#df-e6a493af-9e4d-41f2-be27-8b011670e960 button');\n",
              "      quickchartButtonEl.style.display =\n",
              "        google.colab.kernel.accessAllowed ? 'block' : 'none';\n",
              "    })();\n",
              "  </script>\n",
              "</div>\n",
              "    </div>\n",
              "  </div>\n"
            ]
          },
          "metadata": {},
          "execution_count": 28
        }
      ],
      "source": [
        "legit_sam = legit.sample(n = 492)  # takes any n samples\n",
        "new_dataset = pd.concat([legit_sam,fraud],axis=0)  # row wise\n",
        "new_dataset.head()"
      ]
    },
    {
      "cell_type": "markdown",
      "source": [
        "Feeding Unbalanced data to model will result in :\n",
        "  * Biased Model\n",
        "  * Overfitting\n",
        "  * Misleading Accuracy"
      ],
      "metadata": {
        "id": "h2-N4BVTlJlt"
      },
      "id": "h2-N4BVTlJlt"
    },
    {
      "cell_type": "markdown",
      "source": [
        "**Under Sampling Technique**\n",
        "  * Undersampling involves randomly removing samples from the over-represented class (legitimate transactions) to balance the class distribution and create a more balanced dataset for training machine learning models."
      ],
      "metadata": {
        "id": "I5asJbNDkL1o"
      },
      "id": "I5asJbNDkL1o"
    },
    {
      "cell_type": "code",
      "execution_count": null,
      "id": "f49b2033",
      "metadata": {
        "colab": {
          "base_uri": "https://localhost:8080/"
        },
        "id": "f49b2033",
        "outputId": "9da895fb-3c7d-4005-de79-9a5139e156a8"
      },
      "outputs": [
        {
          "output_type": "execute_result",
          "data": {
            "text/plain": [
              "0    492\n",
              "1    492\n",
              "Name: Class, dtype: int64"
            ]
          },
          "metadata": {},
          "execution_count": 29
        }
      ],
      "source": [
        "new_dataset['Class'].value_counts()"
      ]
    },
    {
      "cell_type": "code",
      "execution_count": null,
      "id": "cfaf4de3",
      "metadata": {
        "id": "cfaf4de3"
      },
      "outputs": [],
      "source": [
        "X = new_dataset.drop(columns='Class', axis=1)\n",
        "y = new_dataset['Class']"
      ]
    },
    {
      "cell_type": "code",
      "execution_count": null,
      "id": "194c531b",
      "metadata": {
        "id": "194c531b"
      },
      "outputs": [],
      "source": [
        "# step 01: Train test split\n",
        "\n",
        "X_train, X_test, y_train, y_test = train_test_split(X, y, test_size=0.2, stratify=y, random_state=2) # 20 % data for test and 80 for train # stratifying Y for equal dis of 0s and 1s"
      ]
    },
    {
      "cell_type": "markdown",
      "source": [
        "**MODELLING** **TRAING AND EVALUATION**\n",
        "* Created a pipeline which is a series of data preprocessing steps and models chained together in a specific sequence\n",
        "* Preprocessing steps include Normalization : Robust Scaling which handles outliers\n",
        "* Implementing Multiple Models such as LogisticRegression,SVM &RandomForestClassifier and also evaluated which model performs better by calculating Precision , recall & F1 score\n",
        "   * SVM\n",
        "      * SVM involves optimizing a hyperplane to maximize the margin between classes while considering misclassifications.\n",
        "      * margin = argmax(w,b) 2/||w|| where ||w|| is  Euclidean norm of the weight vector.\n",
        "      * Kernel: Kernel is the mathematical function, which is used in SVM to map the original input data points into high-dimensional feature spaces, so, that the hyperplane can be easily found out even if the data points are not linearly separable in the original input space.\n",
        "      * linear K(w,b) = W.T * x + b\n",
        "      * soft margin and hard margin"
      ],
      "metadata": {
        "id": "mVJnihQmmUgl"
      },
      "id": "mVJnihQmmUgl"
    },
    {
      "cell_type": "code",
      "execution_count": null,
      "id": "b22385aa",
      "metadata": {
        "id": "b22385aa"
      },
      "outputs": [],
      "source": [
        "from sklearn.compose import ColumnTransformer\n",
        "from sklearn.preprocessing import RobustScaler\n",
        "from sklearn.linear_model import LogisticRegression\n",
        "from sklearn.ensemble import RandomForestClassifier\n",
        "from sklearn.pipeline import Pipeline\n",
        "from sklearn import svm\n",
        "\n",
        "# Assuming your features are in columns 0 to 28 and the target is in column 29\n",
        "trf1 = ColumnTransformer([\n",
        "    ('scaler', RobustScaler(), slice(0, 30))\n",
        "])\n",
        "\n",
        "# Creating the pipeline with feature scaling and classifier\n",
        "pipeline_lr = Pipeline([\n",
        "    ('preprocessor', trf1),\n",
        "    ('classifier', LogisticRegression())\n",
        "])\n",
        "\n",
        "pipeline_rf = Pipeline([\n",
        "    ('preprocessor', trf1),\n",
        "    ('classifier1', RandomForestClassifier(n_estimators=250,random_state=42,max_features=20))\n",
        "])\n",
        "\n",
        "pipeline_svm = Pipeline([\n",
        "    ('preprocessor', trf1),\n",
        "    ('classifier', svm.SVC(kernel='linear'))\n",
        "])\n"
      ]
    },
    {
      "cell_type": "code",
      "execution_count": null,
      "id": "87e8f6d9",
      "metadata": {
        "colab": {
          "base_uri": "https://localhost:8080/",
          "height": 190
        },
        "id": "87e8f6d9",
        "outputId": "7fb1713e-0fd4-431c-e1e0-bfa53e10ae31"
      },
      "outputs": [
        {
          "output_type": "execute_result",
          "data": {
            "text/plain": [
              "Pipeline(steps=[('preprocessor',\n",
              "                 ColumnTransformer(transformers=[('scaler', RobustScaler(),\n",
              "                                                  slice(0, 30, None))])),\n",
              "                ('classifier', SVC(kernel='linear'))])"
            ],
            "text/html": [
              "<style>#sk-container-id-1 {color: black;background-color: white;}#sk-container-id-1 pre{padding: 0;}#sk-container-id-1 div.sk-toggleable {background-color: white;}#sk-container-id-1 label.sk-toggleable__label {cursor: pointer;display: block;width: 100%;margin-bottom: 0;padding: 0.3em;box-sizing: border-box;text-align: center;}#sk-container-id-1 label.sk-toggleable__label-arrow:before {content: \"▸\";float: left;margin-right: 0.25em;color: #696969;}#sk-container-id-1 label.sk-toggleable__label-arrow:hover:before {color: black;}#sk-container-id-1 div.sk-estimator:hover label.sk-toggleable__label-arrow:before {color: black;}#sk-container-id-1 div.sk-toggleable__content {max-height: 0;max-width: 0;overflow: hidden;text-align: left;background-color: #f0f8ff;}#sk-container-id-1 div.sk-toggleable__content pre {margin: 0.2em;color: black;border-radius: 0.25em;background-color: #f0f8ff;}#sk-container-id-1 input.sk-toggleable__control:checked~div.sk-toggleable__content {max-height: 200px;max-width: 100%;overflow: auto;}#sk-container-id-1 input.sk-toggleable__control:checked~label.sk-toggleable__label-arrow:before {content: \"▾\";}#sk-container-id-1 div.sk-estimator input.sk-toggleable__control:checked~label.sk-toggleable__label {background-color: #d4ebff;}#sk-container-id-1 div.sk-label input.sk-toggleable__control:checked~label.sk-toggleable__label {background-color: #d4ebff;}#sk-container-id-1 input.sk-hidden--visually {border: 0;clip: rect(1px 1px 1px 1px);clip: rect(1px, 1px, 1px, 1px);height: 1px;margin: -1px;overflow: hidden;padding: 0;position: absolute;width: 1px;}#sk-container-id-1 div.sk-estimator {font-family: monospace;background-color: #f0f8ff;border: 1px dotted black;border-radius: 0.25em;box-sizing: border-box;margin-bottom: 0.5em;}#sk-container-id-1 div.sk-estimator:hover {background-color: #d4ebff;}#sk-container-id-1 div.sk-parallel-item::after {content: \"\";width: 100%;border-bottom: 1px solid gray;flex-grow: 1;}#sk-container-id-1 div.sk-label:hover label.sk-toggleable__label {background-color: #d4ebff;}#sk-container-id-1 div.sk-serial::before {content: \"\";position: absolute;border-left: 1px solid gray;box-sizing: border-box;top: 0;bottom: 0;left: 50%;z-index: 0;}#sk-container-id-1 div.sk-serial {display: flex;flex-direction: column;align-items: center;background-color: white;padding-right: 0.2em;padding-left: 0.2em;position: relative;}#sk-container-id-1 div.sk-item {position: relative;z-index: 1;}#sk-container-id-1 div.sk-parallel {display: flex;align-items: stretch;justify-content: center;background-color: white;position: relative;}#sk-container-id-1 div.sk-item::before, #sk-container-id-1 div.sk-parallel-item::before {content: \"\";position: absolute;border-left: 1px solid gray;box-sizing: border-box;top: 0;bottom: 0;left: 50%;z-index: -1;}#sk-container-id-1 div.sk-parallel-item {display: flex;flex-direction: column;z-index: 1;position: relative;background-color: white;}#sk-container-id-1 div.sk-parallel-item:first-child::after {align-self: flex-end;width: 50%;}#sk-container-id-1 div.sk-parallel-item:last-child::after {align-self: flex-start;width: 50%;}#sk-container-id-1 div.sk-parallel-item:only-child::after {width: 0;}#sk-container-id-1 div.sk-dashed-wrapped {border: 1px dashed gray;margin: 0 0.4em 0.5em 0.4em;box-sizing: border-box;padding-bottom: 0.4em;background-color: white;}#sk-container-id-1 div.sk-label label {font-family: monospace;font-weight: bold;display: inline-block;line-height: 1.2em;}#sk-container-id-1 div.sk-label-container {text-align: center;}#sk-container-id-1 div.sk-container {/* jupyter's `normalize.less` sets `[hidden] { display: none; }` but bootstrap.min.css set `[hidden] { display: none !important; }` so we also need the `!important` here to be able to override the default hidden behavior on the sphinx rendered scikit-learn.org. See: https://github.com/scikit-learn/scikit-learn/issues/21755 */display: inline-block !important;position: relative;}#sk-container-id-1 div.sk-text-repr-fallback {display: none;}</style><div id=\"sk-container-id-1\" class=\"sk-top-container\"><div class=\"sk-text-repr-fallback\"><pre>Pipeline(steps=[(&#x27;preprocessor&#x27;,\n",
              "                 ColumnTransformer(transformers=[(&#x27;scaler&#x27;, RobustScaler(),\n",
              "                                                  slice(0, 30, None))])),\n",
              "                (&#x27;classifier&#x27;, SVC(kernel=&#x27;linear&#x27;))])</pre><b>In a Jupyter environment, please rerun this cell to show the HTML representation or trust the notebook. <br />On GitHub, the HTML representation is unable to render, please try loading this page with nbviewer.org.</b></div><div class=\"sk-container\" hidden><div class=\"sk-item sk-dashed-wrapped\"><div class=\"sk-label-container\"><div class=\"sk-label sk-toggleable\"><input class=\"sk-toggleable__control sk-hidden--visually\" id=\"sk-estimator-id-1\" type=\"checkbox\" ><label for=\"sk-estimator-id-1\" class=\"sk-toggleable__label sk-toggleable__label-arrow\">Pipeline</label><div class=\"sk-toggleable__content\"><pre>Pipeline(steps=[(&#x27;preprocessor&#x27;,\n",
              "                 ColumnTransformer(transformers=[(&#x27;scaler&#x27;, RobustScaler(),\n",
              "                                                  slice(0, 30, None))])),\n",
              "                (&#x27;classifier&#x27;, SVC(kernel=&#x27;linear&#x27;))])</pre></div></div></div><div class=\"sk-serial\"><div class=\"sk-item sk-dashed-wrapped\"><div class=\"sk-label-container\"><div class=\"sk-label sk-toggleable\"><input class=\"sk-toggleable__control sk-hidden--visually\" id=\"sk-estimator-id-2\" type=\"checkbox\" ><label for=\"sk-estimator-id-2\" class=\"sk-toggleable__label sk-toggleable__label-arrow\">preprocessor: ColumnTransformer</label><div class=\"sk-toggleable__content\"><pre>ColumnTransformer(transformers=[(&#x27;scaler&#x27;, RobustScaler(), slice(0, 30, None))])</pre></div></div></div><div class=\"sk-parallel\"><div class=\"sk-parallel-item\"><div class=\"sk-item\"><div class=\"sk-label-container\"><div class=\"sk-label sk-toggleable\"><input class=\"sk-toggleable__control sk-hidden--visually\" id=\"sk-estimator-id-3\" type=\"checkbox\" ><label for=\"sk-estimator-id-3\" class=\"sk-toggleable__label sk-toggleable__label-arrow\">scaler</label><div class=\"sk-toggleable__content\"><pre>slice(0, 30, None)</pre></div></div></div><div class=\"sk-serial\"><div class=\"sk-item\"><div class=\"sk-estimator sk-toggleable\"><input class=\"sk-toggleable__control sk-hidden--visually\" id=\"sk-estimator-id-4\" type=\"checkbox\" ><label for=\"sk-estimator-id-4\" class=\"sk-toggleable__label sk-toggleable__label-arrow\">RobustScaler</label><div class=\"sk-toggleable__content\"><pre>RobustScaler()</pre></div></div></div></div></div></div></div></div><div class=\"sk-item\"><div class=\"sk-estimator sk-toggleable\"><input class=\"sk-toggleable__control sk-hidden--visually\" id=\"sk-estimator-id-5\" type=\"checkbox\" ><label for=\"sk-estimator-id-5\" class=\"sk-toggleable__label sk-toggleable__label-arrow\">SVC</label><div class=\"sk-toggleable__content\"><pre>SVC(kernel=&#x27;linear&#x27;)</pre></div></div></div></div></div></div></div>"
            ]
          },
          "metadata": {},
          "execution_count": 33
        }
      ],
      "source": [
        "# Assuming X_train, y_train, X_test, y_test are your training and testing data\n",
        "pipeline_lr.fit(X_train, y_train)\n",
        "\n",
        "pipeline_rf.fit(X_train, y_train)\n",
        "\n",
        "pipeline_svm.fit(X_train, y_train)\n",
        "\n"
      ]
    },
    {
      "cell_type": "code",
      "execution_count": null,
      "id": "fd81b449",
      "metadata": {
        "colab": {
          "base_uri": "https://localhost:8080/"
        },
        "id": "fd81b449",
        "outputId": "66f1fb72-88c9-4cc5-e8f5-111e4669e052"
      },
      "outputs": [
        {
          "output_type": "stream",
          "name": "stdout",
          "text": [
            "Logistic Regression Accuracy: 0.934010152284264\n",
            "Logistic Regression Precision: 0.9885057471264368\n",
            "Logistic Regression Recall: 0.8775510204081632\n",
            "Logistic Regression F1-score: 0.9297297297297297\n",
            "Random Forest Precision: 0.9666666666666667\n",
            "Random Forest Recall: 0.8877551020408163\n",
            "Random Forest F1-score: 0.9255319148936171\n",
            "SVM Precision: 0.9885057471264368\n",
            "SVM Recall: 0.8775510204081632\n",
            "SVM F1-score: 0.9297297297297297\n"
          ]
        }
      ],
      "source": [
        "from sklearn.metrics import precision_score, recall_score, f1_score\n",
        "\n",
        "# Assuming your models are already trained and stored in pipeline_lr, pipeline_rf, and pipeline_svm\n",
        "\n",
        "# Make predictions on the test set\n",
        "y_pred_lr = pipeline_lr.predict(X_test)\n",
        "y_pred_rf = pipeline_rf.predict(X_test)\n",
        "y_pred_svm = pipeline_svm.predict(X_test)\n",
        "\n",
        "# Calculate precision, recall, and F1-score for Logistic Regression\n",
        "accuracy_lr = accuracy_score(y_test, y_pred_lr)\n",
        "precision_lr = precision_score(y_test, y_pred_lr)\n",
        "recall_lr = recall_score(y_test, y_pred_lr)\n",
        "f1_lr = f1_score(y_test, y_pred_lr)\n",
        "\n",
        "# Calculate precision, recall, and F1-score for Random Forest\n",
        "precision_rf = precision_score(y_test, y_pred_rf)\n",
        "recall_rf = recall_score(y_test, y_pred_rf)\n",
        "f1_rf = f1_score(y_test, y_pred_rf)\n",
        "\n",
        "# Calculate precision, recall, and F1-score for SVM\n",
        "precision_svm = precision_score(y_test, y_pred_svm)\n",
        "recall_svm = recall_score(y_test, y_pred_svm)\n",
        "f1_svm = f1_score(y_test, y_pred_svm)\n",
        "\n",
        "print(\"Logistic Regression Accuracy:\", accuracy_lr)\n",
        "print(\"Logistic Regression Precision:\", precision_lr)\n",
        "print(\"Logistic Regression Recall:\", recall_lr)\n",
        "print(\"Logistic Regression F1-score:\", f1_lr)\n",
        "print(\"Random Forest Precision:\", precision_rf)\n",
        "print(\"Random Forest Recall:\", recall_rf)\n",
        "print(\"Random Forest F1-score:\", f1_rf)\n",
        "print(\"SVM Precision:\", precision_svm)\n",
        "print(\"SVM Recall:\", recall_svm)\n",
        "print(\"SVM F1-score:\", f1_svm)\n"
      ]
    },
    {
      "cell_type": "markdown",
      "source": [
        "cross-validation provides a more robust estimate of the model's performance."
      ],
      "metadata": {
        "id": "aVFf2gJb6N-q"
      },
      "id": "aVFf2gJb6N-q"
    },
    {
      "cell_type": "code",
      "source": [
        "from sklearn.model_selection import cross_validate\n",
        "scoring = ['accuracy','precision','recall','f1']\n",
        "scores = cross_validate(pipeline_lr,X, y,scoring=scoring,cv=10)\n",
        "scores_rf = cross_validate(pipeline_rf,X, y,scoring=scoring,cv=10)\n",
        "scores_svm = cross_validate(pipeline_svm,X, y,scoring=scoring,cv=10)"
      ],
      "metadata": {
        "id": "QDWxyiD5R017"
      },
      "id": "QDWxyiD5R017",
      "execution_count": null,
      "outputs": []
    },
    {
      "cell_type": "code",
      "source": [
        "scores"
      ],
      "metadata": {
        "colab": {
          "base_uri": "https://localhost:8080/"
        },
        "id": "eav9hspZW-nD",
        "outputId": "528ac8a6-9776-4e80-a72a-716bc0d983c8"
      },
      "id": "eav9hspZW-nD",
      "execution_count": null,
      "outputs": [
        {
          "output_type": "execute_result",
          "data": {
            "text/plain": [
              "{'fit_time': array([0.06965542, 0.05837393, 0.08857107, 0.07511544, 0.0794661 ,\n",
              "        0.08136582, 0.11687112, 0.08821678, 0.06108451, 0.06038404]),\n",
              " 'score_time': array([0.01180935, 0.02978826, 0.0258956 , 0.0224483 , 0.0214529 ,\n",
              "        0.0212028 , 0.03403258, 0.01230764, 0.01210809, 0.02178979]),\n",
              " 'test_accuracy': array([0.96969697, 0.86868687, 0.97979798, 0.84848485, 0.87755102,\n",
              "        0.95918367, 0.95918367, 0.93877551, 0.95918367, 0.87755102]),\n",
              " 'test_precision': array([0.97916667, 1.        , 0.96153846, 0.90697674, 0.97435897,\n",
              "        0.9787234 , 0.95918367, 0.95744681, 0.9787234 , 0.95121951]),\n",
              " 'test_recall': array([0.95918367, 0.73469388, 1.        , 0.78      , 0.7755102 ,\n",
              "        0.93877551, 0.95918367, 0.91836735, 0.93877551, 0.79591837]),\n",
              " 'test_f1': array([0.96907216, 0.84705882, 0.98039216, 0.83870968, 0.86363636,\n",
              "        0.95833333, 0.95918367, 0.9375    , 0.95833333, 0.86666667])}"
            ]
          },
          "metadata": {},
          "execution_count": 36
        }
      ]
    },
    {
      "cell_type": "code",
      "source": [
        "mean_lr = []\n",
        "for i in scoring:\n",
        "  strng = 'test_'+i\n",
        "  print(f'Avearge {i} is {scores[strng].mean()}')\n",
        "  mean_lr.append(scores[strng].mean())"
      ],
      "metadata": {
        "colab": {
          "base_uri": "https://localhost:8080/"
        },
        "id": "cpqz2aAMXbli",
        "outputId": "dbd922d0-4cfc-4acc-fc9a-7cb5a886eed8"
      },
      "id": "cpqz2aAMXbli",
      "execution_count": null,
      "outputs": [
        {
          "output_type": "stream",
          "name": "stdout",
          "text": [
            "Avearge accuracy is 0.9238095238095237\n",
            "Avearge precision is 0.9647337649435934\n",
            "Avearge recall is 0.8800408163265306\n",
            "Avearge f1 is 0.917888619319905\n"
          ]
        }
      ]
    },
    {
      "cell_type": "code",
      "source": [
        "mean_rf = []\n",
        "for i in scoring:\n",
        "  strng = 'test_'+i\n",
        "  print(f'Avearge {i} is {scores_rf[strng].mean()}')\n",
        "  mean_rf.append(scores_rf[strng].mean())"
      ],
      "metadata": {
        "colab": {
          "base_uri": "https://localhost:8080/"
        },
        "id": "ebx2OIhmX6zD",
        "outputId": "c5929677-b56b-4b74-bf3d-4fb1f4aada1f"
      },
      "id": "ebx2OIhmX6zD",
      "execution_count": null,
      "outputs": [
        {
          "output_type": "stream",
          "name": "stdout",
          "text": [
            "Avearge accuracy is 0.9298495155638011\n",
            "Avearge precision is 0.9513924397931923\n",
            "Avearge recall is 0.9065306122448981\n",
            "Avearge f1 is 0.9268976158264051\n"
          ]
        }
      ]
    },
    {
      "cell_type": "code",
      "source": [
        "mean_svm = []\n",
        "for i in scoring:\n",
        "  strng = 'test_'+i\n",
        "  print(f'Avearge {i} is {scores_svm[strng].mean()}')\n",
        "  mean_svm.append(scores_svm[strng].mean())"
      ],
      "metadata": {
        "colab": {
          "base_uri": "https://localhost:8080/"
        },
        "id": "CCyXlVwwY7S2",
        "outputId": "a1a8a9ae-92c4-4a64-f36c-e3cbfb5ef96b"
      },
      "id": "CCyXlVwwY7S2",
      "execution_count": null,
      "outputs": [
        {
          "output_type": "stream",
          "name": "stdout",
          "text": [
            "Avearge accuracy is 0.9217893217893216\n",
            "Avearge precision is 0.966679500577917\n",
            "Avearge recall is 0.8739183673469387\n",
            "Avearge f1 is 0.9143980569749205\n"
          ]
        }
      ]
    },
    {
      "cell_type": "code",
      "execution_count": null,
      "id": "f317181f",
      "metadata": {
        "colab": {
          "base_uri": "https://localhost:8080/"
        },
        "id": "f317181f",
        "outputId": "ce928dd6-e74a-4d32-8d58-e10febf9e6db"
      },
      "outputs": [
        {
          "output_type": "execute_result",
          "data": {
            "text/plain": [
              "array([1, 0, 0, 0, 1, 0, 1, 1, 0, 1, 0, 1, 1, 0, 0, 1, 0, 1, 0, 1, 0, 0,\n",
              "       0, 1, 0, 1, 1, 0, 1, 0, 1, 1, 0, 1, 1, 0, 0, 0, 1, 1, 1, 0, 0, 1,\n",
              "       1, 1, 1, 1, 0, 0, 0, 0, 0, 0, 0, 0, 0, 1, 0, 0, 1, 1, 1, 1, 1, 0,\n",
              "       1, 0, 0, 1, 0, 0, 0, 0, 1, 1, 0, 1, 1, 1, 0, 1, 1, 1, 0, 0, 0, 0,\n",
              "       0, 1, 0, 1, 1, 1, 1, 1, 1, 1, 0, 1, 1, 1, 1, 0, 1, 0, 0, 0, 0, 0,\n",
              "       0, 0, 0, 0, 0, 1, 1, 1, 0, 0, 0, 0, 0, 0, 1, 1, 0, 1, 0, 1, 1, 0,\n",
              "       0, 1, 0, 1, 0, 1, 0, 1, 0, 0, 1, 1, 0, 0, 1, 0, 1, 0, 0, 0, 1, 1,\n",
              "       0, 0, 1, 1, 0, 0, 0, 1, 0, 1, 1, 0, 0, 1, 0, 1, 1, 0, 1, 1, 0, 0,\n",
              "       0, 0, 0, 0, 0, 1, 0, 0, 1, 0, 0, 0, 0, 0, 1, 1, 0, 1, 1, 1, 0])"
            ]
          },
          "metadata": {},
          "execution_count": 40
        }
      ],
      "source": [
        "y_pred_rf"
      ]
    },
    {
      "cell_type": "markdown",
      "source": [
        "Both Logistic Regression and Random Forest Classifier performes better than SVM"
      ],
      "metadata": {
        "id": "mS-HDVHNlNWL"
      },
      "id": "mS-HDVHNlNWL"
    },
    {
      "cell_type": "code",
      "source": [],
      "metadata": {
        "id": "jHfHz8tlaqhR"
      },
      "id": "jHfHz8tlaqhR",
      "execution_count": null,
      "outputs": []
    },
    {
      "cell_type": "code",
      "source": [],
      "metadata": {
        "id": "xB2U_8d4JFMF"
      },
      "id": "xB2U_8d4JFMF",
      "execution_count": null,
      "outputs": []
    }
  ],
  "metadata": {
    "kernelspec": {
      "display_name": "Python 3 (ipykernel)",
      "language": "python",
      "name": "python3"
    },
    "language_info": {
      "codemirror_mode": {
        "name": "ipython",
        "version": 3
      },
      "file_extension": ".py",
      "mimetype": "text/x-python",
      "name": "python",
      "nbconvert_exporter": "python",
      "pygments_lexer": "ipython3",
      "version": "3.11.3"
    },
    "colab": {
      "provenance": [],
      "include_colab_link": true
    }
  },
  "nbformat": 4,
  "nbformat_minor": 5
}